{
 "cells": [
  {
   "cell_type": "markdown",
   "id": "b8a77c1d-b64e-4ce5-8f8b-64505cadf8c4",
   "metadata": {},
   "source": [
    "#### Business Objective\n",
    "In a dynamic and competitive telecommunications environment, customer retention is much more profitable than new customer acquisition. The phenomenon of customers leaving for competitors, known as \"churn,\" is one of the key business challenges. The purpose of this analysis is to proactively identify customers with the highest risk of churn. Creating an accurate predictive model will allow the company to implement targeted retention activities (e.g., personalized offers, proactive technical support), which will translate into reduced churn rates, protection of the revenue base and increased customer loyalty (Customer Lifetime Value).\n",
    "#### Context\r\n",
    "Predict behavior to retain customers. You can analyze all relevant customer data and develop focused customer retention programs. From a machine learning perspective, the churn prediction problem is a binary classification issue. Our task is to build a model that, for each customer, based on their characteristics and history, will assign one of two labels: Churn = 1 (customer will leave) or Churn = 0 (customer will stay).\r\n",
    "\r\n",
    "#### Content\r\n",
    "Each row represents a customer, each column contains customer’s attributes described on the column Metadata.\r\n",
    "\r\n",
    "The data set includes information about:\r\n",
    "\r\n",
    "* **Customers who left within the last month** – the column is called `Churn`.\r\n",
    "* **Services that each customer has signed up for** – phone, multiple lines, internet, online security, online backup, device protection, tech support, and streaming TV and movies.\r\n",
    "* **Customer account information** – how long they’ve been a customer, contract, payment method, paperless billing, monthly charges, and total charges.\r\n",
    "* **Demographic info about customers** – gender, age range, and if they have partners and dependents.ents"
   ]
  },
  {
   "cell_type": "code",
   "execution_count": 1,
   "id": "58d41f94-dd41-46d4-9f16-8efe3a020c5a",
   "metadata": {},
   "outputs": [],
   "source": [
    "import pandas as pd\n",
    "import numpy as np\n",
    "import matplotlib.pyplot as plt\n",
    "import seaborn as sns\n",
    "from sklearn.preprocessing import LabelEncoder, StandardScaler\n",
    "from sklearn.experimental import enable_iterative_imputer\n",
    "from sklearn.impute import IterativeImputer\n",
    "from sklearn.model_selection import train_test_split, StratifiedKFold, cross_validate\n",
    "from sklearn.metrics import make_scorer, confusion_matrix, classification_report, accuracy_score, precision_score, recall_score, f1_score, roc_auc_score\n",
    "from sklearn.tree import DecisionTreeClassifier\n",
    "from sklearn.ensemble import RandomForestClassifier, AdaBoostClassifier, GradientBoostingClassifier\n",
    "from sklearn.linear_model import LogisticRegression\n",
    "from sklearn.neighbors import KNeighborsClassifier\n",
    "from sklearn.svm import SVC\n",
    "from sklearn.naive_bayes import GaussianNB\n",
    "from sklearn.decomposition import PCA\n",
    "from xgboost import XGBClassifier\n",
    "from lightgbm import LGBMClassifier\n",
    "from imblearn.over_sampling import RandomOverSampler, SMOTE, ADASYN\n",
    "from imblearn.under_sampling import RandomUnderSampler, TomekLinks\n",
    "from imblearn.pipeline import Pipeline as ImbPipeline\n",
    "from skopt import BayesSearchCV\n",
    "from skopt.space import Real, Integer, Categorical\n",
    "from scipy import stats\n",
    "import plotly.offline as py\n",
    "import plotly.graph_objs as go\n",
    "from typing import List, Dict, Any\n",
    "import warnings\n",
    "import math\n",
    "import time\n",
    "import os\n",
    "import mlflow\n",
    "from joblib import Parallel, delayed"
   ]
  },
  {
   "cell_type": "code",
   "execution_count": 2,
   "id": "58556b8d-3801-456d-a1bd-b4799b316ad2",
   "metadata": {},
   "outputs": [
    {
     "data": {
      "text/html": [
       "<div>\n",
       "<style scoped>\n",
       "    .dataframe tbody tr th:only-of-type {\n",
       "        vertical-align: middle;\n",
       "    }\n",
       "\n",
       "    .dataframe tbody tr th {\n",
       "        vertical-align: top;\n",
       "    }\n",
       "\n",
       "    .dataframe thead th {\n",
       "        text-align: right;\n",
       "    }\n",
       "</style>\n",
       "<table border=\"1\" class=\"dataframe\">\n",
       "  <thead>\n",
       "    <tr style=\"text-align: right;\">\n",
       "      <th></th>\n",
       "      <th>customerID</th>\n",
       "      <th>gender</th>\n",
       "      <th>SeniorCitizen</th>\n",
       "      <th>Partner</th>\n",
       "      <th>Dependents</th>\n",
       "      <th>tenure</th>\n",
       "      <th>PhoneService</th>\n",
       "      <th>MultipleLines</th>\n",
       "      <th>InternetService</th>\n",
       "      <th>OnlineSecurity</th>\n",
       "      <th>...</th>\n",
       "      <th>DeviceProtection</th>\n",
       "      <th>TechSupport</th>\n",
       "      <th>StreamingTV</th>\n",
       "      <th>StreamingMovies</th>\n",
       "      <th>Contract</th>\n",
       "      <th>PaperlessBilling</th>\n",
       "      <th>PaymentMethod</th>\n",
       "      <th>MonthlyCharges</th>\n",
       "      <th>TotalCharges</th>\n",
       "      <th>Churn</th>\n",
       "    </tr>\n",
       "  </thead>\n",
       "  <tbody>\n",
       "    <tr>\n",
       "      <th>0</th>\n",
       "      <td>7590-VHVEG</td>\n",
       "      <td>Female</td>\n",
       "      <td>0</td>\n",
       "      <td>Yes</td>\n",
       "      <td>No</td>\n",
       "      <td>1</td>\n",
       "      <td>No</td>\n",
       "      <td>No phone service</td>\n",
       "      <td>DSL</td>\n",
       "      <td>No</td>\n",
       "      <td>...</td>\n",
       "      <td>No</td>\n",
       "      <td>No</td>\n",
       "      <td>No</td>\n",
       "      <td>No</td>\n",
       "      <td>Month-to-month</td>\n",
       "      <td>Yes</td>\n",
       "      <td>Electronic check</td>\n",
       "      <td>29.85</td>\n",
       "      <td>29.85</td>\n",
       "      <td>No</td>\n",
       "    </tr>\n",
       "    <tr>\n",
       "      <th>1</th>\n",
       "      <td>5575-GNVDE</td>\n",
       "      <td>Male</td>\n",
       "      <td>0</td>\n",
       "      <td>No</td>\n",
       "      <td>No</td>\n",
       "      <td>34</td>\n",
       "      <td>Yes</td>\n",
       "      <td>No</td>\n",
       "      <td>DSL</td>\n",
       "      <td>Yes</td>\n",
       "      <td>...</td>\n",
       "      <td>Yes</td>\n",
       "      <td>No</td>\n",
       "      <td>No</td>\n",
       "      <td>No</td>\n",
       "      <td>One year</td>\n",
       "      <td>No</td>\n",
       "      <td>Mailed check</td>\n",
       "      <td>56.95</td>\n",
       "      <td>1889.5</td>\n",
       "      <td>No</td>\n",
       "    </tr>\n",
       "    <tr>\n",
       "      <th>2</th>\n",
       "      <td>3668-QPYBK</td>\n",
       "      <td>Male</td>\n",
       "      <td>0</td>\n",
       "      <td>No</td>\n",
       "      <td>No</td>\n",
       "      <td>2</td>\n",
       "      <td>Yes</td>\n",
       "      <td>No</td>\n",
       "      <td>DSL</td>\n",
       "      <td>Yes</td>\n",
       "      <td>...</td>\n",
       "      <td>No</td>\n",
       "      <td>No</td>\n",
       "      <td>No</td>\n",
       "      <td>No</td>\n",
       "      <td>Month-to-month</td>\n",
       "      <td>Yes</td>\n",
       "      <td>Mailed check</td>\n",
       "      <td>53.85</td>\n",
       "      <td>108.15</td>\n",
       "      <td>Yes</td>\n",
       "    </tr>\n",
       "    <tr>\n",
       "      <th>3</th>\n",
       "      <td>7795-CFOCW</td>\n",
       "      <td>Male</td>\n",
       "      <td>0</td>\n",
       "      <td>No</td>\n",
       "      <td>No</td>\n",
       "      <td>45</td>\n",
       "      <td>No</td>\n",
       "      <td>No phone service</td>\n",
       "      <td>DSL</td>\n",
       "      <td>Yes</td>\n",
       "      <td>...</td>\n",
       "      <td>Yes</td>\n",
       "      <td>Yes</td>\n",
       "      <td>No</td>\n",
       "      <td>No</td>\n",
       "      <td>One year</td>\n",
       "      <td>No</td>\n",
       "      <td>Bank transfer (automatic)</td>\n",
       "      <td>42.30</td>\n",
       "      <td>1840.75</td>\n",
       "      <td>No</td>\n",
       "    </tr>\n",
       "    <tr>\n",
       "      <th>4</th>\n",
       "      <td>9237-HQITU</td>\n",
       "      <td>Female</td>\n",
       "      <td>0</td>\n",
       "      <td>No</td>\n",
       "      <td>No</td>\n",
       "      <td>2</td>\n",
       "      <td>Yes</td>\n",
       "      <td>No</td>\n",
       "      <td>Fiber optic</td>\n",
       "      <td>No</td>\n",
       "      <td>...</td>\n",
       "      <td>No</td>\n",
       "      <td>No</td>\n",
       "      <td>No</td>\n",
       "      <td>No</td>\n",
       "      <td>Month-to-month</td>\n",
       "      <td>Yes</td>\n",
       "      <td>Electronic check</td>\n",
       "      <td>70.70</td>\n",
       "      <td>151.65</td>\n",
       "      <td>Yes</td>\n",
       "    </tr>\n",
       "    <tr>\n",
       "      <th>5</th>\n",
       "      <td>9305-CDSKC</td>\n",
       "      <td>Female</td>\n",
       "      <td>0</td>\n",
       "      <td>No</td>\n",
       "      <td>No</td>\n",
       "      <td>8</td>\n",
       "      <td>Yes</td>\n",
       "      <td>Yes</td>\n",
       "      <td>Fiber optic</td>\n",
       "      <td>No</td>\n",
       "      <td>...</td>\n",
       "      <td>Yes</td>\n",
       "      <td>No</td>\n",
       "      <td>Yes</td>\n",
       "      <td>Yes</td>\n",
       "      <td>Month-to-month</td>\n",
       "      <td>Yes</td>\n",
       "      <td>Electronic check</td>\n",
       "      <td>99.65</td>\n",
       "      <td>820.5</td>\n",
       "      <td>Yes</td>\n",
       "    </tr>\n",
       "    <tr>\n",
       "      <th>6</th>\n",
       "      <td>1452-KIOVK</td>\n",
       "      <td>Male</td>\n",
       "      <td>0</td>\n",
       "      <td>No</td>\n",
       "      <td>Yes</td>\n",
       "      <td>22</td>\n",
       "      <td>Yes</td>\n",
       "      <td>Yes</td>\n",
       "      <td>Fiber optic</td>\n",
       "      <td>No</td>\n",
       "      <td>...</td>\n",
       "      <td>No</td>\n",
       "      <td>No</td>\n",
       "      <td>Yes</td>\n",
       "      <td>No</td>\n",
       "      <td>Month-to-month</td>\n",
       "      <td>Yes</td>\n",
       "      <td>Credit card (automatic)</td>\n",
       "      <td>89.10</td>\n",
       "      <td>1949.4</td>\n",
       "      <td>No</td>\n",
       "    </tr>\n",
       "    <tr>\n",
       "      <th>7</th>\n",
       "      <td>6713-OKOMC</td>\n",
       "      <td>Female</td>\n",
       "      <td>0</td>\n",
       "      <td>No</td>\n",
       "      <td>No</td>\n",
       "      <td>10</td>\n",
       "      <td>No</td>\n",
       "      <td>No phone service</td>\n",
       "      <td>DSL</td>\n",
       "      <td>Yes</td>\n",
       "      <td>...</td>\n",
       "      <td>No</td>\n",
       "      <td>No</td>\n",
       "      <td>No</td>\n",
       "      <td>No</td>\n",
       "      <td>Month-to-month</td>\n",
       "      <td>No</td>\n",
       "      <td>Mailed check</td>\n",
       "      <td>29.75</td>\n",
       "      <td>301.9</td>\n",
       "      <td>No</td>\n",
       "    </tr>\n",
       "    <tr>\n",
       "      <th>8</th>\n",
       "      <td>7892-POOKP</td>\n",
       "      <td>Female</td>\n",
       "      <td>0</td>\n",
       "      <td>Yes</td>\n",
       "      <td>No</td>\n",
       "      <td>28</td>\n",
       "      <td>Yes</td>\n",
       "      <td>Yes</td>\n",
       "      <td>Fiber optic</td>\n",
       "      <td>No</td>\n",
       "      <td>...</td>\n",
       "      <td>Yes</td>\n",
       "      <td>Yes</td>\n",
       "      <td>Yes</td>\n",
       "      <td>Yes</td>\n",
       "      <td>Month-to-month</td>\n",
       "      <td>Yes</td>\n",
       "      <td>Electronic check</td>\n",
       "      <td>104.80</td>\n",
       "      <td>3046.05</td>\n",
       "      <td>Yes</td>\n",
       "    </tr>\n",
       "    <tr>\n",
       "      <th>9</th>\n",
       "      <td>6388-TABGU</td>\n",
       "      <td>Male</td>\n",
       "      <td>0</td>\n",
       "      <td>No</td>\n",
       "      <td>Yes</td>\n",
       "      <td>62</td>\n",
       "      <td>Yes</td>\n",
       "      <td>No</td>\n",
       "      <td>DSL</td>\n",
       "      <td>Yes</td>\n",
       "      <td>...</td>\n",
       "      <td>No</td>\n",
       "      <td>No</td>\n",
       "      <td>No</td>\n",
       "      <td>No</td>\n",
       "      <td>One year</td>\n",
       "      <td>No</td>\n",
       "      <td>Bank transfer (automatic)</td>\n",
       "      <td>56.15</td>\n",
       "      <td>3487.95</td>\n",
       "      <td>No</td>\n",
       "    </tr>\n",
       "  </tbody>\n",
       "</table>\n",
       "<p>10 rows × 21 columns</p>\n",
       "</div>"
      ],
      "text/plain": [
       "   customerID  gender  SeniorCitizen Partner Dependents  tenure PhoneService  \\\n",
       "0  7590-VHVEG  Female              0     Yes         No       1           No   \n",
       "1  5575-GNVDE    Male              0      No         No      34          Yes   \n",
       "2  3668-QPYBK    Male              0      No         No       2          Yes   \n",
       "3  7795-CFOCW    Male              0      No         No      45           No   \n",
       "4  9237-HQITU  Female              0      No         No       2          Yes   \n",
       "5  9305-CDSKC  Female              0      No         No       8          Yes   \n",
       "6  1452-KIOVK    Male              0      No        Yes      22          Yes   \n",
       "7  6713-OKOMC  Female              0      No         No      10           No   \n",
       "8  7892-POOKP  Female              0     Yes         No      28          Yes   \n",
       "9  6388-TABGU    Male              0      No        Yes      62          Yes   \n",
       "\n",
       "      MultipleLines InternetService OnlineSecurity  ... DeviceProtection  \\\n",
       "0  No phone service             DSL             No  ...               No   \n",
       "1                No             DSL            Yes  ...              Yes   \n",
       "2                No             DSL            Yes  ...               No   \n",
       "3  No phone service             DSL            Yes  ...              Yes   \n",
       "4                No     Fiber optic             No  ...               No   \n",
       "5               Yes     Fiber optic             No  ...              Yes   \n",
       "6               Yes     Fiber optic             No  ...               No   \n",
       "7  No phone service             DSL            Yes  ...               No   \n",
       "8               Yes     Fiber optic             No  ...              Yes   \n",
       "9                No             DSL            Yes  ...               No   \n",
       "\n",
       "  TechSupport StreamingTV StreamingMovies        Contract PaperlessBilling  \\\n",
       "0          No          No              No  Month-to-month              Yes   \n",
       "1          No          No              No        One year               No   \n",
       "2          No          No              No  Month-to-month              Yes   \n",
       "3         Yes          No              No        One year               No   \n",
       "4          No          No              No  Month-to-month              Yes   \n",
       "5          No         Yes             Yes  Month-to-month              Yes   \n",
       "6          No         Yes              No  Month-to-month              Yes   \n",
       "7          No          No              No  Month-to-month               No   \n",
       "8         Yes         Yes             Yes  Month-to-month              Yes   \n",
       "9          No          No              No        One year               No   \n",
       "\n",
       "               PaymentMethod MonthlyCharges  TotalCharges Churn  \n",
       "0           Electronic check          29.85         29.85    No  \n",
       "1               Mailed check          56.95        1889.5    No  \n",
       "2               Mailed check          53.85        108.15   Yes  \n",
       "3  Bank transfer (automatic)          42.30       1840.75    No  \n",
       "4           Electronic check          70.70        151.65   Yes  \n",
       "5           Electronic check          99.65         820.5   Yes  \n",
       "6    Credit card (automatic)          89.10        1949.4    No  \n",
       "7               Mailed check          29.75         301.9    No  \n",
       "8           Electronic check         104.80       3046.05   Yes  \n",
       "9  Bank transfer (automatic)          56.15       3487.95    No  \n",
       "\n",
       "[10 rows x 21 columns]"
      ]
     },
     "execution_count": 2,
     "metadata": {},
     "output_type": "execute_result"
    }
   ],
   "source": [
    "df = pd.read_csv('telco_customer_churn.csv')\n",
    "telecom_df = df.copy()\n",
    "# display the first 10 rows of the analyzed dataset.\n",
    "\n",
    "telecom_df.head(10)"
   ]
  },
  {
   "cell_type": "code",
   "execution_count": 3,
   "id": "2cd46f20-aafa-418a-8871-bfe43e25c46a",
   "metadata": {},
   "outputs": [],
   "source": [
    "# we dont need id for analysis\n",
    "telecom_df.drop(['customerID'], axis = 1, inplace = True)"
   ]
  },
  {
   "cell_type": "code",
   "execution_count": 4,
   "id": "6e42ec4b-9ec3-4a93-8776-b794a8dbfdca",
   "metadata": {},
   "outputs": [
    {
     "data": {
      "text/plain": [
       "(7043, 20)"
      ]
     },
     "execution_count": 4,
     "metadata": {},
     "output_type": "execute_result"
    }
   ],
   "source": [
    "telecom_df.shape"
   ]
  },
  {
   "cell_type": "markdown",
   "id": "3eaa1df9-f49c-4913-9324-5b0834531799",
   "metadata": {},
   "source": [
    "### Columns description\r\n",
    "\r\n",
    "* **CustomerID**: A unique ID that identifies each customer.\r\n",
    "* **Gender**: The customer’s gender: Male, Female.\r\n",
    "* **Senior Citizen**: Indicates if the customer is 65 or older: Yes, No.\r\n",
    "* **Dependents**: Indicates if the customer lives with any dependents: Yes, No. Dependents could be children, parents, grandparents, etc.\r\n",
    "* **Tenure in Months**: Indicates the total amount of months that the customer has been with the company.\r\n",
    "* **Phone Service**: Indicates if the customer subscribes to home phone service with the company: Yes, No.\r\n",
    "* **Multiple Lines**: Indicates if the customer subscribes to multiple telephone lines with the company: Yes, No.\r\n",
    "* **Internet Service**: Indicates if the customer subscribes to Internet service with the company: No, DSL, Fiber Optic, Cable.\r\n",
    "* **Online Security**: Indicates if the customer subscribes to an additional online security service provided by the company: Yes, No.\r\n",
    "* **Online Backup**: Indicates if the customer subscribes to an additional online backup service provided by the company: Yes, No.\r\n",
    "* **Device Protection Plan**: Indicates if the customer subscribes to an additional device protection plan for their Internet equipment provided by the company: Yes, No.\r\n",
    "* **Premium Tech Support**: Indicates if the customer subscribes to an additional technical support plan from the company with reduced wait times: Yes, No.\r\n",
    "* **Streaming TV**: Indicates if the customer uses their Internet service to stream television programming from a third-party provider: Yes, No. The company does not charge an additional fee for this service.\r\n",
    "* **Streaming Movies**: Indicates if the customer uses their Internet service to stream movies from a third-party provider: Yes, No. The company does not charge an additional fee for this service.\r\n",
    "* **Contract**: Indicates the customer’s current contract type: Month-to-Month, One Year, Two Year.\r\n",
    "* **Paperless Billing**: Indicates if the customer has chosen paperless billing: Yes, No.\r\n",
    "* **Payment Method**: Indicates how the customer pays their bill: Bank Withdrawal, Credit Card, Mailed Check.\r\n",
    "* **Monthly Charge**: Indicates the customer’s current total monthly charge for all their services from the company.\r\n",
    "* **Total Charges**: Indicates the customer’s total charges, calculated to the end of the quarter.\r\n",
    "* **Churn Label**: Yes = the customer left the company this quarter. No = the customer remained with the company. Directly related to Churn Value.e."
   ]
  },
  {
   "cell_type": "code",
   "execution_count": 5,
   "id": "4c91be1b-d47f-4554-85c3-bbc4c7a28a60",
   "metadata": {},
   "outputs": [
    {
     "data": {
      "text/html": [
       "<div>\n",
       "<style scoped>\n",
       "    .dataframe tbody tr th:only-of-type {\n",
       "        vertical-align: middle;\n",
       "    }\n",
       "\n",
       "    .dataframe tbody tr th {\n",
       "        vertical-align: top;\n",
       "    }\n",
       "\n",
       "    .dataframe thead th {\n",
       "        text-align: right;\n",
       "    }\n",
       "</style>\n",
       "<table border=\"1\" class=\"dataframe\">\n",
       "  <thead>\n",
       "    <tr style=\"text-align: right;\">\n",
       "      <th></th>\n",
       "      <th>gender</th>\n",
       "      <th>SeniorCitizen</th>\n",
       "      <th>Partner</th>\n",
       "      <th>Dependents</th>\n",
       "      <th>tenure</th>\n",
       "      <th>PhoneService</th>\n",
       "      <th>MultipleLines</th>\n",
       "      <th>InternetService</th>\n",
       "      <th>OnlineSecurity</th>\n",
       "      <th>OnlineBackup</th>\n",
       "      <th>DeviceProtection</th>\n",
       "      <th>TechSupport</th>\n",
       "      <th>StreamingTV</th>\n",
       "      <th>StreamingMovies</th>\n",
       "      <th>Contract</th>\n",
       "      <th>PaperlessBilling</th>\n",
       "      <th>PaymentMethod</th>\n",
       "      <th>MonthlyCharges</th>\n",
       "      <th>TotalCharges</th>\n",
       "      <th>Churn</th>\n",
       "    </tr>\n",
       "  </thead>\n",
       "  <tbody>\n",
       "    <tr>\n",
       "      <th>count</th>\n",
       "      <td>7043</td>\n",
       "      <td>7043.000000</td>\n",
       "      <td>7043</td>\n",
       "      <td>7043</td>\n",
       "      <td>7043.000000</td>\n",
       "      <td>7043</td>\n",
       "      <td>7043</td>\n",
       "      <td>7043</td>\n",
       "      <td>7043</td>\n",
       "      <td>7043</td>\n",
       "      <td>7043</td>\n",
       "      <td>7043</td>\n",
       "      <td>7043</td>\n",
       "      <td>7043</td>\n",
       "      <td>7043</td>\n",
       "      <td>7043</td>\n",
       "      <td>7043</td>\n",
       "      <td>7043.000000</td>\n",
       "      <td>7043</td>\n",
       "      <td>7043</td>\n",
       "    </tr>\n",
       "    <tr>\n",
       "      <th>unique</th>\n",
       "      <td>2</td>\n",
       "      <td>NaN</td>\n",
       "      <td>2</td>\n",
       "      <td>2</td>\n",
       "      <td>NaN</td>\n",
       "      <td>2</td>\n",
       "      <td>3</td>\n",
       "      <td>3</td>\n",
       "      <td>3</td>\n",
       "      <td>3</td>\n",
       "      <td>3</td>\n",
       "      <td>3</td>\n",
       "      <td>3</td>\n",
       "      <td>3</td>\n",
       "      <td>3</td>\n",
       "      <td>2</td>\n",
       "      <td>4</td>\n",
       "      <td>NaN</td>\n",
       "      <td>6531</td>\n",
       "      <td>2</td>\n",
       "    </tr>\n",
       "    <tr>\n",
       "      <th>top</th>\n",
       "      <td>Male</td>\n",
       "      <td>NaN</td>\n",
       "      <td>No</td>\n",
       "      <td>No</td>\n",
       "      <td>NaN</td>\n",
       "      <td>Yes</td>\n",
       "      <td>No</td>\n",
       "      <td>Fiber optic</td>\n",
       "      <td>No</td>\n",
       "      <td>No</td>\n",
       "      <td>No</td>\n",
       "      <td>No</td>\n",
       "      <td>No</td>\n",
       "      <td>No</td>\n",
       "      <td>Month-to-month</td>\n",
       "      <td>Yes</td>\n",
       "      <td>Electronic check</td>\n",
       "      <td>NaN</td>\n",
       "      <td></td>\n",
       "      <td>No</td>\n",
       "    </tr>\n",
       "    <tr>\n",
       "      <th>freq</th>\n",
       "      <td>3555</td>\n",
       "      <td>NaN</td>\n",
       "      <td>3641</td>\n",
       "      <td>4933</td>\n",
       "      <td>NaN</td>\n",
       "      <td>6361</td>\n",
       "      <td>3390</td>\n",
       "      <td>3096</td>\n",
       "      <td>3498</td>\n",
       "      <td>3088</td>\n",
       "      <td>3095</td>\n",
       "      <td>3473</td>\n",
       "      <td>2810</td>\n",
       "      <td>2785</td>\n",
       "      <td>3875</td>\n",
       "      <td>4171</td>\n",
       "      <td>2365</td>\n",
       "      <td>NaN</td>\n",
       "      <td>11</td>\n",
       "      <td>5174</td>\n",
       "    </tr>\n",
       "    <tr>\n",
       "      <th>mean</th>\n",
       "      <td>NaN</td>\n",
       "      <td>0.162147</td>\n",
       "      <td>NaN</td>\n",
       "      <td>NaN</td>\n",
       "      <td>32.371149</td>\n",
       "      <td>NaN</td>\n",
       "      <td>NaN</td>\n",
       "      <td>NaN</td>\n",
       "      <td>NaN</td>\n",
       "      <td>NaN</td>\n",
       "      <td>NaN</td>\n",
       "      <td>NaN</td>\n",
       "      <td>NaN</td>\n",
       "      <td>NaN</td>\n",
       "      <td>NaN</td>\n",
       "      <td>NaN</td>\n",
       "      <td>NaN</td>\n",
       "      <td>64.761692</td>\n",
       "      <td>NaN</td>\n",
       "      <td>NaN</td>\n",
       "    </tr>\n",
       "    <tr>\n",
       "      <th>std</th>\n",
       "      <td>NaN</td>\n",
       "      <td>0.368612</td>\n",
       "      <td>NaN</td>\n",
       "      <td>NaN</td>\n",
       "      <td>24.559481</td>\n",
       "      <td>NaN</td>\n",
       "      <td>NaN</td>\n",
       "      <td>NaN</td>\n",
       "      <td>NaN</td>\n",
       "      <td>NaN</td>\n",
       "      <td>NaN</td>\n",
       "      <td>NaN</td>\n",
       "      <td>NaN</td>\n",
       "      <td>NaN</td>\n",
       "      <td>NaN</td>\n",
       "      <td>NaN</td>\n",
       "      <td>NaN</td>\n",
       "      <td>30.090047</td>\n",
       "      <td>NaN</td>\n",
       "      <td>NaN</td>\n",
       "    </tr>\n",
       "    <tr>\n",
       "      <th>min</th>\n",
       "      <td>NaN</td>\n",
       "      <td>0.000000</td>\n",
       "      <td>NaN</td>\n",
       "      <td>NaN</td>\n",
       "      <td>0.000000</td>\n",
       "      <td>NaN</td>\n",
       "      <td>NaN</td>\n",
       "      <td>NaN</td>\n",
       "      <td>NaN</td>\n",
       "      <td>NaN</td>\n",
       "      <td>NaN</td>\n",
       "      <td>NaN</td>\n",
       "      <td>NaN</td>\n",
       "      <td>NaN</td>\n",
       "      <td>NaN</td>\n",
       "      <td>NaN</td>\n",
       "      <td>NaN</td>\n",
       "      <td>18.250000</td>\n",
       "      <td>NaN</td>\n",
       "      <td>NaN</td>\n",
       "    </tr>\n",
       "    <tr>\n",
       "      <th>25%</th>\n",
       "      <td>NaN</td>\n",
       "      <td>0.000000</td>\n",
       "      <td>NaN</td>\n",
       "      <td>NaN</td>\n",
       "      <td>9.000000</td>\n",
       "      <td>NaN</td>\n",
       "      <td>NaN</td>\n",
       "      <td>NaN</td>\n",
       "      <td>NaN</td>\n",
       "      <td>NaN</td>\n",
       "      <td>NaN</td>\n",
       "      <td>NaN</td>\n",
       "      <td>NaN</td>\n",
       "      <td>NaN</td>\n",
       "      <td>NaN</td>\n",
       "      <td>NaN</td>\n",
       "      <td>NaN</td>\n",
       "      <td>35.500000</td>\n",
       "      <td>NaN</td>\n",
       "      <td>NaN</td>\n",
       "    </tr>\n",
       "    <tr>\n",
       "      <th>50%</th>\n",
       "      <td>NaN</td>\n",
       "      <td>0.000000</td>\n",
       "      <td>NaN</td>\n",
       "      <td>NaN</td>\n",
       "      <td>29.000000</td>\n",
       "      <td>NaN</td>\n",
       "      <td>NaN</td>\n",
       "      <td>NaN</td>\n",
       "      <td>NaN</td>\n",
       "      <td>NaN</td>\n",
       "      <td>NaN</td>\n",
       "      <td>NaN</td>\n",
       "      <td>NaN</td>\n",
       "      <td>NaN</td>\n",
       "      <td>NaN</td>\n",
       "      <td>NaN</td>\n",
       "      <td>NaN</td>\n",
       "      <td>70.350000</td>\n",
       "      <td>NaN</td>\n",
       "      <td>NaN</td>\n",
       "    </tr>\n",
       "    <tr>\n",
       "      <th>75%</th>\n",
       "      <td>NaN</td>\n",
       "      <td>0.000000</td>\n",
       "      <td>NaN</td>\n",
       "      <td>NaN</td>\n",
       "      <td>55.000000</td>\n",
       "      <td>NaN</td>\n",
       "      <td>NaN</td>\n",
       "      <td>NaN</td>\n",
       "      <td>NaN</td>\n",
       "      <td>NaN</td>\n",
       "      <td>NaN</td>\n",
       "      <td>NaN</td>\n",
       "      <td>NaN</td>\n",
       "      <td>NaN</td>\n",
       "      <td>NaN</td>\n",
       "      <td>NaN</td>\n",
       "      <td>NaN</td>\n",
       "      <td>89.850000</td>\n",
       "      <td>NaN</td>\n",
       "      <td>NaN</td>\n",
       "    </tr>\n",
       "    <tr>\n",
       "      <th>max</th>\n",
       "      <td>NaN</td>\n",
       "      <td>1.000000</td>\n",
       "      <td>NaN</td>\n",
       "      <td>NaN</td>\n",
       "      <td>72.000000</td>\n",
       "      <td>NaN</td>\n",
       "      <td>NaN</td>\n",
       "      <td>NaN</td>\n",
       "      <td>NaN</td>\n",
       "      <td>NaN</td>\n",
       "      <td>NaN</td>\n",
       "      <td>NaN</td>\n",
       "      <td>NaN</td>\n",
       "      <td>NaN</td>\n",
       "      <td>NaN</td>\n",
       "      <td>NaN</td>\n",
       "      <td>NaN</td>\n",
       "      <td>118.750000</td>\n",
       "      <td>NaN</td>\n",
       "      <td>NaN</td>\n",
       "    </tr>\n",
       "  </tbody>\n",
       "</table>\n",
       "</div>"
      ],
      "text/plain": [
       "       gender  SeniorCitizen Partner Dependents       tenure PhoneService  \\\n",
       "count    7043    7043.000000    7043       7043  7043.000000         7043   \n",
       "unique      2            NaN       2          2          NaN            2   \n",
       "top      Male            NaN      No         No          NaN          Yes   \n",
       "freq     3555            NaN    3641       4933          NaN         6361   \n",
       "mean      NaN       0.162147     NaN        NaN    32.371149          NaN   \n",
       "std       NaN       0.368612     NaN        NaN    24.559481          NaN   \n",
       "min       NaN       0.000000     NaN        NaN     0.000000          NaN   \n",
       "25%       NaN       0.000000     NaN        NaN     9.000000          NaN   \n",
       "50%       NaN       0.000000     NaN        NaN    29.000000          NaN   \n",
       "75%       NaN       0.000000     NaN        NaN    55.000000          NaN   \n",
       "max       NaN       1.000000     NaN        NaN    72.000000          NaN   \n",
       "\n",
       "       MultipleLines InternetService OnlineSecurity OnlineBackup  \\\n",
       "count           7043            7043           7043         7043   \n",
       "unique             3               3              3            3   \n",
       "top               No     Fiber optic             No           No   \n",
       "freq            3390            3096           3498         3088   \n",
       "mean             NaN             NaN            NaN          NaN   \n",
       "std              NaN             NaN            NaN          NaN   \n",
       "min              NaN             NaN            NaN          NaN   \n",
       "25%              NaN             NaN            NaN          NaN   \n",
       "50%              NaN             NaN            NaN          NaN   \n",
       "75%              NaN             NaN            NaN          NaN   \n",
       "max              NaN             NaN            NaN          NaN   \n",
       "\n",
       "       DeviceProtection TechSupport StreamingTV StreamingMovies  \\\n",
       "count              7043        7043        7043            7043   \n",
       "unique                3           3           3               3   \n",
       "top                  No          No          No              No   \n",
       "freq               3095        3473        2810            2785   \n",
       "mean                NaN         NaN         NaN             NaN   \n",
       "std                 NaN         NaN         NaN             NaN   \n",
       "min                 NaN         NaN         NaN             NaN   \n",
       "25%                 NaN         NaN         NaN             NaN   \n",
       "50%                 NaN         NaN         NaN             NaN   \n",
       "75%                 NaN         NaN         NaN             NaN   \n",
       "max                 NaN         NaN         NaN             NaN   \n",
       "\n",
       "              Contract PaperlessBilling     PaymentMethod  MonthlyCharges  \\\n",
       "count             7043             7043              7043     7043.000000   \n",
       "unique               3                2                 4             NaN   \n",
       "top     Month-to-month              Yes  Electronic check             NaN   \n",
       "freq              3875             4171              2365             NaN   \n",
       "mean               NaN              NaN               NaN       64.761692   \n",
       "std                NaN              NaN               NaN       30.090047   \n",
       "min                NaN              NaN               NaN       18.250000   \n",
       "25%                NaN              NaN               NaN       35.500000   \n",
       "50%                NaN              NaN               NaN       70.350000   \n",
       "75%                NaN              NaN               NaN       89.850000   \n",
       "max                NaN              NaN               NaN      118.750000   \n",
       "\n",
       "       TotalCharges Churn  \n",
       "count          7043  7043  \n",
       "unique         6531     2  \n",
       "top                    No  \n",
       "freq             11  5174  \n",
       "mean            NaN   NaN  \n",
       "std             NaN   NaN  \n",
       "min             NaN   NaN  \n",
       "25%             NaN   NaN  \n",
       "50%             NaN   NaN  \n",
       "75%             NaN   NaN  \n",
       "max             NaN   NaN  "
      ]
     },
     "execution_count": 5,
     "metadata": {},
     "output_type": "execute_result"
    }
   ],
   "source": [
    "# display the general statistical features of the analyzed data\n",
    "telecom_df.describe(include = 'all')"
   ]
  },
  {
   "cell_type": "code",
   "execution_count": 6,
   "id": "a26c55c5-6560-4464-984c-b983ca110287",
   "metadata": {},
   "outputs": [
    {
     "name": "stdout",
     "output_type": "stream",
     "text": [
      "<class 'pandas.core.frame.DataFrame'>\n",
      "RangeIndex: 7043 entries, 0 to 7042\n",
      "Data columns (total 21 columns):\n",
      " #   Column            Non-Null Count  Dtype  \n",
      "---  ------            --------------  -----  \n",
      " 0   customerID        7043 non-null   object \n",
      " 1   gender            7043 non-null   object \n",
      " 2   SeniorCitizen     7043 non-null   int64  \n",
      " 3   Partner           7043 non-null   object \n",
      " 4   Dependents        7043 non-null   object \n",
      " 5   tenure            7043 non-null   int64  \n",
      " 6   PhoneService      7043 non-null   object \n",
      " 7   MultipleLines     7043 non-null   object \n",
      " 8   InternetService   7043 non-null   object \n",
      " 9   OnlineSecurity    7043 non-null   object \n",
      " 10  OnlineBackup      7043 non-null   object \n",
      " 11  DeviceProtection  7043 non-null   object \n",
      " 12  TechSupport       7043 non-null   object \n",
      " 13  StreamingTV       7043 non-null   object \n",
      " 14  StreamingMovies   7043 non-null   object \n",
      " 15  Contract          7043 non-null   object \n",
      " 16  PaperlessBilling  7043 non-null   object \n",
      " 17  PaymentMethod     7043 non-null   object \n",
      " 18  MonthlyCharges    7043 non-null   float64\n",
      " 19  TotalCharges      7043 non-null   object \n",
      " 20  Churn             7043 non-null   object \n",
      "dtypes: float64(1), int64(2), object(18)\n",
      "memory usage: 1.1+ MB\n"
     ]
    }
   ],
   "source": [
    "# display informations about df\n",
    "df.info()"
   ]
  },
  {
   "cell_type": "code",
   "execution_count": 7,
   "id": "0ead32d4-8efa-41ed-bd7e-580b45816fe7",
   "metadata": {},
   "outputs": [],
   "source": [
    "# this is continous variable - to float\n",
    "telecom_df['TotalCharges'] = pd.to_numeric(telecom_df['TotalCharges'], errors='coerce')"
   ]
  },
  {
   "cell_type": "code",
   "execution_count": 8,
   "id": "ec2a29bf-3034-4717-988c-93e23171f4b1",
   "metadata": {
    "scrolled": true
   },
   "outputs": [
    {
     "name": "stdout",
     "output_type": "stream",
     "text": [
      "Column: 'gender'\n",
      "  Unique values: ['Female' 'Male']\n",
      "--------------------------------------------------\n",
      "Column: 'SeniorCitizen'\n",
      "  Unique values: [0 1]\n",
      "--------------------------------------------------\n",
      "Column: 'Partner'\n",
      "  Unique values: ['Yes' 'No']\n",
      "--------------------------------------------------\n",
      "Column: 'Dependents'\n",
      "  Unique values: ['No' 'Yes']\n",
      "--------------------------------------------------\n",
      "Column: 'tenure'\n",
      "  Unique values: [ 1 34  2 45  8 22 10 28 62 13 16 58 49 25 69 52 71 21 12 30 47 72 17 27\n",
      "  5 46 11 70 63 43 15 60 18 66  9  3 31 50 64 56  7 42 35 48 29 65 38 68\n",
      " 32 55 37 36 41  6  4 33 67 23 57 61 14 20 53 40 59 24 44 19 54 51 26  0\n",
      " 39]\n",
      "--------------------------------------------------\n",
      "Column: 'PhoneService'\n",
      "  Unique values: ['No' 'Yes']\n",
      "--------------------------------------------------\n",
      "Column: 'MultipleLines'\n",
      "  Unique values: ['No phone service' 'No' 'Yes']\n",
      "--------------------------------------------------\n",
      "Column: 'InternetService'\n",
      "  Unique values: ['DSL' 'Fiber optic' 'No']\n",
      "--------------------------------------------------\n",
      "Column: 'OnlineSecurity'\n",
      "  Unique values: ['No' 'Yes' 'No internet service']\n",
      "--------------------------------------------------\n",
      "Column: 'OnlineBackup'\n",
      "  Unique values: ['Yes' 'No' 'No internet service']\n",
      "--------------------------------------------------\n",
      "Column: 'DeviceProtection'\n",
      "  Unique values: ['No' 'Yes' 'No internet service']\n",
      "--------------------------------------------------\n",
      "Column: 'TechSupport'\n",
      "  Unique values: ['No' 'Yes' 'No internet service']\n",
      "--------------------------------------------------\n",
      "Column: 'StreamingTV'\n",
      "  Unique values: ['No' 'Yes' 'No internet service']\n",
      "--------------------------------------------------\n",
      "Column: 'StreamingMovies'\n",
      "  Unique values: ['No' 'Yes' 'No internet service']\n",
      "--------------------------------------------------\n",
      "Column: 'Contract'\n",
      "  Unique values: ['Month-to-month' 'One year' 'Two year']\n",
      "--------------------------------------------------\n",
      "Column: 'PaperlessBilling'\n",
      "  Unique values: ['Yes' 'No']\n",
      "--------------------------------------------------\n",
      "Column: 'PaymentMethod'\n",
      "  Unique values: ['Electronic check' 'Mailed check' 'Bank transfer (automatic)'\n",
      " 'Credit card (automatic)']\n",
      "--------------------------------------------------\n",
      "Column: 'MonthlyCharges'\n",
      "  Unique values: [29.85 56.95 53.85 ... 63.1  44.2  78.7 ]\n",
      "--------------------------------------------------\n",
      "Column: 'TotalCharges'\n",
      "  Unique values: [  29.85 1889.5   108.15 ...  346.45  306.6  6844.5 ]\n",
      "--------------------------------------------------\n",
      "Column: 'Churn'\n",
      "  Unique values: ['No' 'Yes']\n",
      "--------------------------------------------------\n"
     ]
    }
   ],
   "source": [
    "# unique values for columns\n",
    "for column in telecom_df.columns:\n",
    "    print(f\"Column: '{column}'\")\n",
    "    unique_values = telecom_df[column].unique()\n",
    "    print(f\"  Unique values: {unique_values}\")\n",
    "    print(\"-\" * 50)"
   ]
  },
  {
   "cell_type": "code",
   "execution_count": 9,
   "id": "8319da34-6421-4eba-871b-d1791faf333e",
   "metadata": {},
   "outputs": [],
   "source": [
    "# Based on the unique values for each feature, we do a mapping using get_dummies and onehotencoder\n",
    "def map_categorical_features(df: pd.DataFrame, mappings: Dict[str, Dict[Any, int]]) -> pd.DataFrame:\n",
    "    for col, mapping in mappings.items():\n",
    "        if col in df.columns:\n",
    "            df[col] = df[col].map(mapping)\n",
    "    return df\n",
    "\n",
    "def encode_one_hot_features(df: pd.DataFrame, columns: List[str]) -> pd.DataFrame:\n",
    "    cols_to_encode = [col for col in columns if col in df.columns]\n",
    "    if not cols_to_encode:\n",
    "        return df\n",
    "    return pd.get_dummies(df, columns=cols_to_encode, drop_first=True, dtype=int)\n",
    "\n",
    "def preprocess_customer_data(df: pd.DataFrame) -> pd.DataFrame:\n",
    "    processed_df = df.copy()\n",
    "    processed_df = map_categorical_features(processed_df, ALL_MAPPINGS)\n",
    "    processed_df = encode_one_hot_features(processed_df, ONE_HOT_FEATURES_COLS)\n",
    "\n",
    "    return processed_df"
   ]
  },
  {
   "cell_type": "code",
   "execution_count": 10,
   "id": "d5ee248e-21aa-4e41-acf3-24636cdc40bb",
   "metadata": {},
   "outputs": [],
   "source": [
    "BINARY_FEATURES_MAPPING = {\n",
    "    'gender': {'Male': 1, 'Female': 0},\n",
    "    'Partner': {'Yes': 1, 'No': 0},\n",
    "    'Dependents': {'Yes': 1, 'No': 0},\n",
    "    'PhoneService': {'Yes': 1, 'No': 0},\n",
    "    'PaperlessBilling': {'Yes': 1, 'No': 0},\n",
    "    'Churn': {'Yes': 1, 'No': 0}\n",
    "}\n",
    "\n",
    "ORDINAL_FEATURES_MAPPING = {\n",
    "    'Contract': {'Month-to-month': 0, 'One year': 1, 'Two year': 2}\n",
    "}\n",
    "\n",
    "ALL_MAPPINGS = {**BINARY_FEATURES_MAPPING, **ORDINAL_FEATURES_MAPPING}\n",
    "\n",
    "ONE_HOT_FEATURES_COLS = [\n",
    "    'MultipleLines', 'InternetService', 'OnlineSecurity', 'OnlineBackup',\n",
    "    'DeviceProtection', 'TechSupport', 'StreamingTV', 'StreamingMovies', 'PaymentMethod'\n",
    "]\n"
   ]
  },
  {
   "cell_type": "code",
   "execution_count": 11,
   "id": "365743b6-1cbc-437f-9e3f-46faf71ab6b1",
   "metadata": {},
   "outputs": [
    {
     "name": "stdout",
     "output_type": "stream",
     "text": [
      "   gender  SeniorCitizen  Partner  Dependents  tenure  PhoneService  Contract  PaperlessBilling  MonthlyCharges  TotalCharges  ...  \\\n",
      "0       0              0        1           0       1             0         0                 1           29.85         29.85  ...   \n",
      "1       1              0        0           0      34             1         1                 0           56.95       1889.50  ...   \n",
      "2       1              0        0           0       2             1         0                 1           53.85        108.15  ...   \n",
      "3       1              0        0           0      45             0         1                 0           42.30       1840.75  ...   \n",
      "4       0              0        0           0       2             1         0                 1           70.70        151.65  ...   \n",
      "5       0              0        0           0       8             1         0                 1           99.65        820.50  ...   \n",
      "6       1              0        0           1      22             1         0                 1           89.10       1949.40  ...   \n",
      "7       0              0        0           0      10             0         0                 0           29.75        301.90  ...   \n",
      "8       0              0        1           0      28             1         0                 1          104.80       3046.05  ...   \n",
      "9       1              0        0           1      62             1         1                 0           56.15       3487.95  ...   \n",
      "\n",
      "   DeviceProtection_Yes  TechSupport_No internet service  TechSupport_Yes  StreamingTV_No internet service  StreamingTV_Yes  \\\n",
      "0                     0                                0                0                                0                0   \n",
      "1                     1                                0                0                                0                0   \n",
      "2                     0                                0                0                                0                0   \n",
      "3                     1                                0                1                                0                0   \n",
      "4                     0                                0                0                                0                0   \n",
      "5                     1                                0                0                                0                1   \n",
      "6                     0                                0                0                                0                1   \n",
      "7                     0                                0                0                                0                0   \n",
      "8                     1                                0                1                                0                1   \n",
      "9                     0                                0                0                                0                0   \n",
      "\n",
      "   StreamingMovies_No internet service  StreamingMovies_Yes  PaymentMethod_Credit card (automatic)  PaymentMethod_Electronic check  \\\n",
      "0                                    0                    0                                      0                               1   \n",
      "1                                    0                    0                                      0                               0   \n",
      "2                                    0                    0                                      0                               0   \n",
      "3                                    0                    0                                      0                               0   \n",
      "4                                    0                    0                                      0                               1   \n",
      "5                                    0                    1                                      0                               1   \n",
      "6                                    0                    0                                      1                               0   \n",
      "7                                    0                    0                                      0                               0   \n",
      "8                                    0                    1                                      0                               1   \n",
      "9                                    0                    0                                      0                               0   \n",
      "\n",
      "   PaymentMethod_Mailed check  \n",
      "0                           0  \n",
      "1                           1  \n",
      "2                           1  \n",
      "3                           0  \n",
      "4                           0  \n",
      "5                           0  \n",
      "6                           0  \n",
      "7                           1  \n",
      "8                           0  \n",
      "9                           0  \n",
      "\n",
      "[10 rows x 30 columns]\n"
     ]
    }
   ],
   "source": [
    "telecom_df = preprocess_customer_data(telecom_df)\n",
    "pd.set_option('display.width', 150)\n",
    "print(telecom_df.head(10))"
   ]
  },
  {
   "cell_type": "code",
   "execution_count": 12,
   "id": "5f17afd6-bbc8-4d70-bf6d-a1eef7df25cf",
   "metadata": {},
   "outputs": [
    {
     "data": {
      "text/plain": [
       "gender                                    0\n",
       "SeniorCitizen                             0\n",
       "Partner                                   0\n",
       "Dependents                                0\n",
       "tenure                                    0\n",
       "PhoneService                              0\n",
       "Contract                                  0\n",
       "PaperlessBilling                          0\n",
       "MonthlyCharges                            0\n",
       "TotalCharges                             11\n",
       "Churn                                     0\n",
       "MultipleLines_No phone service            0\n",
       "MultipleLines_Yes                         0\n",
       "InternetService_Fiber optic               0\n",
       "InternetService_No                        0\n",
       "OnlineSecurity_No internet service        0\n",
       "OnlineSecurity_Yes                        0\n",
       "OnlineBackup_No internet service          0\n",
       "OnlineBackup_Yes                          0\n",
       "DeviceProtection_No internet service      0\n",
       "DeviceProtection_Yes                      0\n",
       "TechSupport_No internet service           0\n",
       "TechSupport_Yes                           0\n",
       "StreamingTV_No internet service           0\n",
       "StreamingTV_Yes                           0\n",
       "StreamingMovies_No internet service       0\n",
       "StreamingMovies_Yes                       0\n",
       "PaymentMethod_Credit card (automatic)     0\n",
       "PaymentMethod_Electronic check            0\n",
       "PaymentMethod_Mailed check                0\n",
       "dtype: int64"
      ]
     },
     "execution_count": 12,
     "metadata": {},
     "output_type": "execute_result"
    }
   ],
   "source": [
    "# checking for empty values\n",
    "telecom_df.isna().sum()"
   ]
  },
  {
   "cell_type": "code",
   "execution_count": 13,
   "id": "fe265fdb-4936-4e37-9335-5d7e9b1bf35d",
   "metadata": {},
   "outputs": [],
   "source": [
    "# imputation of na values\n",
    "# We could use an iterative imputer but with this amount of missing data it won't make much difference\n",
    "telecom_df['TotalCharges'] = pd.to_numeric(telecom_df['TotalCharges'], errors='coerce').pipe(lambda s: s.fillna(s.median()))"
   ]
  },
  {
   "cell_type": "code",
   "execution_count": 14,
   "id": "4e7ab3d0-4727-4f1a-986e-97a1ef74020a",
   "metadata": {},
   "outputs": [
    {
     "data": {
      "text/plain": [
       "22"
      ]
     },
     "execution_count": 14,
     "metadata": {},
     "output_type": "execute_result"
    }
   ],
   "source": [
    "# and duplications\n",
    "telecom_df.duplicated().sum()"
   ]
  },
  {
   "cell_type": "code",
   "execution_count": 15,
   "id": "db1f7bf3-6436-4c1d-a1ef-39e8e4e25a0c",
   "metadata": {},
   "outputs": [],
   "source": [
    "# duplications drop\n",
    "telecom_df = telecom_df.drop_duplicates()\n",
    "telecom_df = telecom_df.reset_index(drop=True)"
   ]
  },
  {
   "cell_type": "code",
   "execution_count": 16,
   "id": "601df9a5-5c4d-4089-85c6-4f24b32e36c3",
   "metadata": {},
   "outputs": [
    {
     "data": {
      "text/html": [
       "<div>\n",
       "<style scoped>\n",
       "    .dataframe tbody tr th:only-of-type {\n",
       "        vertical-align: middle;\n",
       "    }\n",
       "\n",
       "    .dataframe tbody tr th {\n",
       "        vertical-align: top;\n",
       "    }\n",
       "\n",
       "    .dataframe thead th {\n",
       "        text-align: right;\n",
       "    }\n",
       "</style>\n",
       "<table border=\"1\" class=\"dataframe\">\n",
       "  <thead>\n",
       "    <tr style=\"text-align: right;\">\n",
       "      <th></th>\n",
       "      <th>gender</th>\n",
       "      <th>SeniorCitizen</th>\n",
       "      <th>Partner</th>\n",
       "      <th>Dependents</th>\n",
       "      <th>tenure</th>\n",
       "      <th>PhoneService</th>\n",
       "      <th>Contract</th>\n",
       "      <th>PaperlessBilling</th>\n",
       "      <th>MonthlyCharges</th>\n",
       "      <th>TotalCharges</th>\n",
       "      <th>...</th>\n",
       "      <th>DeviceProtection_Yes</th>\n",
       "      <th>TechSupport_No internet service</th>\n",
       "      <th>TechSupport_Yes</th>\n",
       "      <th>StreamingTV_No internet service</th>\n",
       "      <th>StreamingTV_Yes</th>\n",
       "      <th>StreamingMovies_No internet service</th>\n",
       "      <th>StreamingMovies_Yes</th>\n",
       "      <th>PaymentMethod_Credit card (automatic)</th>\n",
       "      <th>PaymentMethod_Electronic check</th>\n",
       "      <th>PaymentMethod_Mailed check</th>\n",
       "    </tr>\n",
       "  </thead>\n",
       "  <tbody>\n",
       "    <tr>\n",
       "      <th>count</th>\n",
       "      <td>7021.000000</td>\n",
       "      <td>7021.000000</td>\n",
       "      <td>7021.000000</td>\n",
       "      <td>7021.000000</td>\n",
       "      <td>7021.000000</td>\n",
       "      <td>7021.000000</td>\n",
       "      <td>7021.000000</td>\n",
       "      <td>7021.000000</td>\n",
       "      <td>7021.000000</td>\n",
       "      <td>7021.000000</td>\n",
       "      <td>...</td>\n",
       "      <td>7021.000000</td>\n",
       "      <td>7021.000000</td>\n",
       "      <td>7021.000000</td>\n",
       "      <td>7021.000000</td>\n",
       "      <td>7021.000000</td>\n",
       "      <td>7021.000000</td>\n",
       "      <td>7021.000000</td>\n",
       "      <td>7021.000000</td>\n",
       "      <td>7021.000000</td>\n",
       "      <td>7021.000000</td>\n",
       "    </tr>\n",
       "    <tr>\n",
       "      <th>mean</th>\n",
       "      <td>0.504344</td>\n",
       "      <td>0.162512</td>\n",
       "      <td>0.484546</td>\n",
       "      <td>0.300527</td>\n",
       "      <td>32.469449</td>\n",
       "      <td>0.902863</td>\n",
       "      <td>0.692636</td>\n",
       "      <td>0.592651</td>\n",
       "      <td>64.851894</td>\n",
       "      <td>2288.954490</td>\n",
       "      <td>...</td>\n",
       "      <td>0.344965</td>\n",
       "      <td>0.215354</td>\n",
       "      <td>0.291127</td>\n",
       "      <td>0.215354</td>\n",
       "      <td>0.385558</td>\n",
       "      <td>0.215354</td>\n",
       "      <td>0.389118</td>\n",
       "      <td>0.216778</td>\n",
       "      <td>0.335992</td>\n",
       "      <td>0.227318</td>\n",
       "    </tr>\n",
       "    <tr>\n",
       "      <th>std</th>\n",
       "      <td>0.500017</td>\n",
       "      <td>0.368947</td>\n",
       "      <td>0.499797</td>\n",
       "      <td>0.458520</td>\n",
       "      <td>24.534965</td>\n",
       "      <td>0.296166</td>\n",
       "      <td>0.834163</td>\n",
       "      <td>0.491376</td>\n",
       "      <td>30.069001</td>\n",
       "      <td>2265.319449</td>\n",
       "      <td>...</td>\n",
       "      <td>0.475391</td>\n",
       "      <td>0.411097</td>\n",
       "      <td>0.454314</td>\n",
       "      <td>0.411097</td>\n",
       "      <td>0.486761</td>\n",
       "      <td>0.411097</td>\n",
       "      <td>0.487585</td>\n",
       "      <td>0.412080</td>\n",
       "      <td>0.472370</td>\n",
       "      <td>0.419130</td>\n",
       "    </tr>\n",
       "    <tr>\n",
       "      <th>min</th>\n",
       "      <td>0.000000</td>\n",
       "      <td>0.000000</td>\n",
       "      <td>0.000000</td>\n",
       "      <td>0.000000</td>\n",
       "      <td>0.000000</td>\n",
       "      <td>0.000000</td>\n",
       "      <td>0.000000</td>\n",
       "      <td>0.000000</td>\n",
       "      <td>18.250000</td>\n",
       "      <td>18.800000</td>\n",
       "      <td>...</td>\n",
       "      <td>0.000000</td>\n",
       "      <td>0.000000</td>\n",
       "      <td>0.000000</td>\n",
       "      <td>0.000000</td>\n",
       "      <td>0.000000</td>\n",
       "      <td>0.000000</td>\n",
       "      <td>0.000000</td>\n",
       "      <td>0.000000</td>\n",
       "      <td>0.000000</td>\n",
       "      <td>0.000000</td>\n",
       "    </tr>\n",
       "    <tr>\n",
       "      <th>25%</th>\n",
       "      <td>0.000000</td>\n",
       "      <td>0.000000</td>\n",
       "      <td>0.000000</td>\n",
       "      <td>0.000000</td>\n",
       "      <td>9.000000</td>\n",
       "      <td>1.000000</td>\n",
       "      <td>0.000000</td>\n",
       "      <td>0.000000</td>\n",
       "      <td>35.750000</td>\n",
       "      <td>411.150000</td>\n",
       "      <td>...</td>\n",
       "      <td>0.000000</td>\n",
       "      <td>0.000000</td>\n",
       "      <td>0.000000</td>\n",
       "      <td>0.000000</td>\n",
       "      <td>0.000000</td>\n",
       "      <td>0.000000</td>\n",
       "      <td>0.000000</td>\n",
       "      <td>0.000000</td>\n",
       "      <td>0.000000</td>\n",
       "      <td>0.000000</td>\n",
       "    </tr>\n",
       "    <tr>\n",
       "      <th>50%</th>\n",
       "      <td>1.000000</td>\n",
       "      <td>0.000000</td>\n",
       "      <td>0.000000</td>\n",
       "      <td>0.000000</td>\n",
       "      <td>29.000000</td>\n",
       "      <td>1.000000</td>\n",
       "      <td>0.000000</td>\n",
       "      <td>1.000000</td>\n",
       "      <td>70.400000</td>\n",
       "      <td>1400.550000</td>\n",
       "      <td>...</td>\n",
       "      <td>0.000000</td>\n",
       "      <td>0.000000</td>\n",
       "      <td>0.000000</td>\n",
       "      <td>0.000000</td>\n",
       "      <td>0.000000</td>\n",
       "      <td>0.000000</td>\n",
       "      <td>0.000000</td>\n",
       "      <td>0.000000</td>\n",
       "      <td>0.000000</td>\n",
       "      <td>0.000000</td>\n",
       "    </tr>\n",
       "    <tr>\n",
       "      <th>75%</th>\n",
       "      <td>1.000000</td>\n",
       "      <td>0.000000</td>\n",
       "      <td>1.000000</td>\n",
       "      <td>1.000000</td>\n",
       "      <td>55.000000</td>\n",
       "      <td>1.000000</td>\n",
       "      <td>1.000000</td>\n",
       "      <td>1.000000</td>\n",
       "      <td>89.900000</td>\n",
       "      <td>3801.700000</td>\n",
       "      <td>...</td>\n",
       "      <td>1.000000</td>\n",
       "      <td>0.000000</td>\n",
       "      <td>1.000000</td>\n",
       "      <td>0.000000</td>\n",
       "      <td>1.000000</td>\n",
       "      <td>0.000000</td>\n",
       "      <td>1.000000</td>\n",
       "      <td>0.000000</td>\n",
       "      <td>1.000000</td>\n",
       "      <td>0.000000</td>\n",
       "    </tr>\n",
       "    <tr>\n",
       "      <th>max</th>\n",
       "      <td>1.000000</td>\n",
       "      <td>1.000000</td>\n",
       "      <td>1.000000</td>\n",
       "      <td>1.000000</td>\n",
       "      <td>72.000000</td>\n",
       "      <td>1.000000</td>\n",
       "      <td>2.000000</td>\n",
       "      <td>1.000000</td>\n",
       "      <td>118.750000</td>\n",
       "      <td>8684.800000</td>\n",
       "      <td>...</td>\n",
       "      <td>1.000000</td>\n",
       "      <td>1.000000</td>\n",
       "      <td>1.000000</td>\n",
       "      <td>1.000000</td>\n",
       "      <td>1.000000</td>\n",
       "      <td>1.000000</td>\n",
       "      <td>1.000000</td>\n",
       "      <td>1.000000</td>\n",
       "      <td>1.000000</td>\n",
       "      <td>1.000000</td>\n",
       "    </tr>\n",
       "  </tbody>\n",
       "</table>\n",
       "<p>8 rows × 30 columns</p>\n",
       "</div>"
      ],
      "text/plain": [
       "            gender  SeniorCitizen      Partner   Dependents       tenure  PhoneService     Contract  PaperlessBilling  MonthlyCharges  TotalCharges  \\\n",
       "count  7021.000000    7021.000000  7021.000000  7021.000000  7021.000000   7021.000000  7021.000000       7021.000000     7021.000000   7021.000000   \n",
       "mean      0.504344       0.162512     0.484546     0.300527    32.469449      0.902863     0.692636          0.592651       64.851894   2288.954490   \n",
       "std       0.500017       0.368947     0.499797     0.458520    24.534965      0.296166     0.834163          0.491376       30.069001   2265.319449   \n",
       "min       0.000000       0.000000     0.000000     0.000000     0.000000      0.000000     0.000000          0.000000       18.250000     18.800000   \n",
       "25%       0.000000       0.000000     0.000000     0.000000     9.000000      1.000000     0.000000          0.000000       35.750000    411.150000   \n",
       "50%       1.000000       0.000000     0.000000     0.000000    29.000000      1.000000     0.000000          1.000000       70.400000   1400.550000   \n",
       "75%       1.000000       0.000000     1.000000     1.000000    55.000000      1.000000     1.000000          1.000000       89.900000   3801.700000   \n",
       "max       1.000000       1.000000     1.000000     1.000000    72.000000      1.000000     2.000000          1.000000      118.750000   8684.800000   \n",
       "\n",
       "       ...  DeviceProtection_Yes  TechSupport_No internet service  TechSupport_Yes  StreamingTV_No internet service  StreamingTV_Yes  \\\n",
       "count  ...           7021.000000                      7021.000000      7021.000000                      7021.000000      7021.000000   \n",
       "mean   ...              0.344965                         0.215354         0.291127                         0.215354         0.385558   \n",
       "std    ...              0.475391                         0.411097         0.454314                         0.411097         0.486761   \n",
       "min    ...              0.000000                         0.000000         0.000000                         0.000000         0.000000   \n",
       "25%    ...              0.000000                         0.000000         0.000000                         0.000000         0.000000   \n",
       "50%    ...              0.000000                         0.000000         0.000000                         0.000000         0.000000   \n",
       "75%    ...              1.000000                         0.000000         1.000000                         0.000000         1.000000   \n",
       "max    ...              1.000000                         1.000000         1.000000                         1.000000         1.000000   \n",
       "\n",
       "       StreamingMovies_No internet service  StreamingMovies_Yes  PaymentMethod_Credit card (automatic)  PaymentMethod_Electronic check  \\\n",
       "count                          7021.000000          7021.000000                            7021.000000                     7021.000000   \n",
       "mean                              0.215354             0.389118                               0.216778                        0.335992   \n",
       "std                               0.411097             0.487585                               0.412080                        0.472370   \n",
       "min                               0.000000             0.000000                               0.000000                        0.000000   \n",
       "25%                               0.000000             0.000000                               0.000000                        0.000000   \n",
       "50%                               0.000000             0.000000                               0.000000                        0.000000   \n",
       "75%                               0.000000             1.000000                               0.000000                        1.000000   \n",
       "max                               1.000000             1.000000                               1.000000                        1.000000   \n",
       "\n",
       "       PaymentMethod_Mailed check  \n",
       "count                 7021.000000  \n",
       "mean                     0.227318  \n",
       "std                      0.419130  \n",
       "min                      0.000000  \n",
       "25%                      0.000000  \n",
       "50%                      0.000000  \n",
       "75%                      0.000000  \n",
       "max                      1.000000  \n",
       "\n",
       "[8 rows x 30 columns]"
      ]
     },
     "execution_count": 16,
     "metadata": {},
     "output_type": "execute_result"
    }
   ],
   "source": [
    "# glimse after preprocessing\n",
    "telecom_df.describe(include = 'all')"
   ]
  },
  {
   "cell_type": "markdown",
   "id": "e8c456c2-d220-42e3-8959-0079f71949ab",
   "metadata": {},
   "source": [
    "We will choose columns for removal based on a correlation analysis between the potential independent variables of our future models. We want to avoid the problem of **collinearity**, which is a situation where two or more predictors are highly correlated with each other (meaning they provide almost identical information to the model).\r\n",
    "\r\n",
    "Collinearity can lead to several problems:\r\n",
    "* It causes instability in the model's coefficients.\r\n",
    "* It increases the risk of overfitting.\r\n",
    "* It creates difficulties in interpreting the results.\r\n",
    "\r\n",
    "To improve the accuracy of the models we build, we must address this issue by removing correlated columns.\r\n",
    "\r\n",
    "> **Note**: We have set the correlation threshold at **0.8**."
   ]
  },
  {
   "cell_type": "code",
   "execution_count": 17,
   "id": "9f612ab5-2075-4a62-9c8b-e4fc78d93e50",
   "metadata": {},
   "outputs": [],
   "source": [
    "# divide into dependent and independent variables\n",
    "X = telecom_df.drop('Churn', axis=1)\n",
    "y = telecom_df['Churn']"
   ]
  },
  {
   "cell_type": "code",
   "execution_count": 18,
   "id": "9b47d0d9-bbcf-408e-888d-233a01a9d16f",
   "metadata": {},
   "outputs": [],
   "source": [
    "# feature engineering - we will add some new indicators"
   ]
  },
  {
   "cell_type": "code",
   "execution_count": 19,
   "id": "fcbfb3f1-5a12-4e8a-8498-0caabbc1f625",
   "metadata": {},
   "outputs": [],
   "source": [
    "X['Monthly_to_Tenure_Ratio'] = X['MonthlyCharges'] / (X['tenure'] + 1)\n",
    "average_lifetime_monthly = X['TotalCharges'] / (X['tenure'] + 1)\n",
    "X['Price_Increase_Indicator'] = X['MonthlyCharges'] / (average_lifetime_monthly + 0.01)\n",
    "X['Loyalty_vs_Value_Ratio'] = X['tenure'] / (X['TotalCharges'] + 1)"
   ]
  },
  {
   "cell_type": "code",
   "execution_count": 20,
   "id": "520dfdc2-66d7-45cf-b601-c18943cd7ea5",
   "metadata": {},
   "outputs": [
    {
     "data": {
      "image/png": "[encoded data removed]",
      "text/plain": [
       "<Figure size 2000x1500 with 2 Axes>"
      ]
     },
     "metadata": {},
     "output_type": "display_data"
    }
   ],
   "source": [
    "corr = X.corr()\n",
    "\n",
    "plt.figure(figsize=(20, 15))\n",
    "plt.title('Correlation Matrix')\n",
    "\n",
    "sns.heatmap(corr, \n",
    "            linewidths=0.1, \n",
    "            cmap='RdYlGn', \n",
    "            annot=False)\n",
    "\n",
    "plt.show()"
   ]
  },
  {
   "cell_type": "code",
   "execution_count": 21,
   "id": "6df280b3-2849-471b-bdeb-eb9509892e8c",
   "metadata": {},
   "outputs": [
    {
     "name": "stdout",
     "output_type": "stream",
     "text": [
      "Feature pairs with correlation above 0.6:\n",
      "DeviceProtection_No internet service  StreamingMovies_No internet service     1.000000\n",
      "                                      TechSupport_No internet service         1.000000\n",
      "InternetService_No                    StreamingMovies_No internet service     1.000000\n",
      "OnlineBackup_No internet service      StreamingMovies_No internet service     1.000000\n",
      "OnlineSecurity_No internet service    DeviceProtection_No internet service    1.000000\n",
      "InternetService_No                    StreamingTV_No internet service         1.000000\n",
      "                                      TechSupport_No internet service         1.000000\n",
      "                                      DeviceProtection_No internet service    1.000000\n",
      "StreamingTV_No internet service       StreamingMovies_No internet service     1.000000\n",
      "InternetService_No                    OnlineBackup_No internet service        1.000000\n",
      "                                      OnlineSecurity_No internet service      1.000000\n",
      "OnlineSecurity_No internet service    OnlineBackup_No internet service        1.000000\n",
      "                                      StreamingTV_No internet service         1.000000\n",
      "OnlineBackup_No internet service      TechSupport_No internet service         1.000000\n",
      "TechSupport_No internet service       StreamingTV_No internet service         1.000000\n",
      "OnlineSecurity_No internet service    TechSupport_No internet service         1.000000\n",
      "OnlineBackup_No internet service      DeviceProtection_No internet service    1.000000\n",
      "                                      StreamingTV_No internet service         1.000000\n",
      "TechSupport_No internet service       StreamingMovies_No internet service     1.000000\n",
      "OnlineSecurity_No internet service    StreamingMovies_No internet service     1.000000\n",
      "DeviceProtection_No internet service  StreamingTV_No internet service         1.000000\n",
      "PhoneService                          MultipleLines_No phone service          1.000000\n",
      "StreamingMovies_No internet service   Loyalty_vs_Value_Ratio                  0.912897\n",
      "OnlineBackup_No internet service      Loyalty_vs_Value_Ratio                  0.912897\n",
      "StreamingTV_No internet service       Loyalty_vs_Value_Ratio                  0.912897\n",
      "DeviceProtection_No internet service  Loyalty_vs_Value_Ratio                  0.912897\n",
      "InternetService_No                    Loyalty_vs_Value_Ratio                  0.912897\n",
      "TechSupport_No internet service       Loyalty_vs_Value_Ratio                  0.912897\n",
      "OnlineSecurity_No internet service    Loyalty_vs_Value_Ratio                  0.912897\n",
      "MonthlyCharges                        Loyalty_vs_Value_Ratio                  0.906805\n",
      "tenure                                TotalCharges                            0.824875\n",
      "MonthlyCharges                        InternetService_Fiber optic             0.787040\n",
      "Monthly_to_Tenure_Ratio               Price_Increase_Indicator                0.767578\n",
      "MonthlyCharges                        OnlineSecurity_No internet service      0.762552\n",
      "                                      OnlineBackup_No internet service        0.762552\n",
      "                                      DeviceProtection_No internet service    0.762552\n",
      "                                      InternetService_No                      0.762552\n",
      "                                      TechSupport_No internet service         0.762552\n",
      "                                      StreamingTV_No internet service         0.762552\n",
      "                                      StreamingMovies_No internet service     0.762552\n",
      "tenure                                Contract                                0.670728\n",
      "MonthlyCharges                        TotalCharges                            0.650341\n",
      "                                      StreamingTV_Yes                         0.629272\n",
      "                                      StreamingMovies_Yes                     0.627082\n",
      "InternetService_Fiber optic           Loyalty_vs_Value_Ratio                  0.625813\n",
      "dtype: float64\n"
     ]
    }
   ],
   "source": [
    "corr_matrix = X.corr().abs() \n",
    "\n",
    "sol = (corr_matrix.where(np.triu(np.ones(corr_matrix.shape), k=1).astype(bool))\n",
    "                  .stack())\n",
    "\n",
    "sol = sol.sort_values(ascending=False)\n",
    "\n",
    "\n",
    "correlation_threshold = 0.6\n",
    "\n",
    "highly_correlated_pairs = sol[sol > correlation_threshold]\n",
    "\n",
    "print(f\"Feature pairs with correlation above {correlation_threshold}:\")\n",
    "print(highly_correlated_pairs)"
   ]
  },
  {
   "cell_type": "code",
   "execution_count": 22,
   "id": "30a63f8a-e41d-4d91-8e48-a95aff425913",
   "metadata": {},
   "outputs": [],
   "source": [
    "# We remove features with a correlation coefficient above 0.8\n",
    "# Features from pairs to be removed are selected by analyzing which are causal (more general) - these are left\n",
    "# Those that are correlated with more features we drop\n",
    "\n",
    "X.drop(['OnlineBackup_No internet service'], axis = 1, inplace = True)\n",
    "X.drop(['OnlineSecurity_No internet service'], axis = 1, inplace = True)\n",
    "X.drop(['InternetService_No'], axis = 1, inplace = True)\n",
    "X.drop(['StreamingTV_No internet service'], axis = 1, inplace = True)\n",
    "X.drop(['StreamingMovies_No internet service'], axis = 1, inplace = True)\n",
    "X.drop(['TechSupport_No internet service'], axis = 1, inplace = True)\n",
    "X.drop(['MultipleLines_No phone service'], axis = 1, inplace = True)\n",
    "X.drop(['Loyalty_vs_Value_Ratio'], axis = 1, inplace = True)\n",
    "X.drop(['Monthly_to_Tenure_Ratio'], axis = 1, inplace = True)\n",
    "X.drop(['Price_Increase_Indicator'], axis = 1, inplace = True)\n",
    "X_tenure = X.copy()\n",
    "X_tenure.drop(['TotalCharges'], axis = 1, inplace = True) # for our curiosity we will check df with this drop - why? you will see later\n",
    "X.drop(['tenure'], axis = 1, inplace = True)\n",
    "\n",
    "# We also remove MonthlyCharges - although it does not have a very strong correlation (> 0.8) \n",
    "# it is strongly correlated with many other characteristics          \n",
    "X.drop(['MonthlyCharges'], axis = 1, inplace = True)"
   ]
  },
  {
   "cell_type": "markdown",
   "id": "97cf746c-a2f6-4f7a-942c-707bd467d3a2",
   "metadata": {},
   "source": [
    "#### Now we're going to examine potential outliers and we will analyze the distributions of the values of each features"
   ]
  },
  {
   "cell_type": "code",
   "execution_count": 23,
   "id": "4ece5c25-a497-451f-9357-318d070ee7d5",
   "metadata": {},
   "outputs": [
    {
     "name": "stdout",
     "output_type": "stream",
     "text": [
      "<class 'pandas.core.frame.DataFrame'>\n",
      "RangeIndex: 7021 entries, 0 to 7020\n",
      "Data columns (total 20 columns):\n",
      " #   Column                                 Non-Null Count  Dtype  \n",
      "---  ------                                 --------------  -----  \n",
      " 0   gender                                 7021 non-null   int64  \n",
      " 1   SeniorCitizen                          7021 non-null   int64  \n",
      " 2   Partner                                7021 non-null   int64  \n",
      " 3   Dependents                             7021 non-null   int64  \n",
      " 4   PhoneService                           7021 non-null   int64  \n",
      " 5   Contract                               7021 non-null   int64  \n",
      " 6   PaperlessBilling                       7021 non-null   int64  \n",
      " 7   TotalCharges                           7021 non-null   float64\n",
      " 8   MultipleLines_Yes                      7021 non-null   int32  \n",
      " 9   InternetService_Fiber optic            7021 non-null   int32  \n",
      " 10  OnlineSecurity_Yes                     7021 non-null   int32  \n",
      " 11  OnlineBackup_Yes                       7021 non-null   int32  \n",
      " 12  DeviceProtection_No internet service   7021 non-null   int32  \n",
      " 13  DeviceProtection_Yes                   7021 non-null   int32  \n",
      " 14  TechSupport_Yes                        7021 non-null   int32  \n",
      " 15  StreamingTV_Yes                        7021 non-null   int32  \n",
      " 16  StreamingMovies_Yes                    7021 non-null   int32  \n",
      " 17  PaymentMethod_Credit card (automatic)  7021 non-null   int32  \n",
      " 18  PaymentMethod_Electronic check         7021 non-null   int32  \n",
      " 19  PaymentMethod_Mailed check             7021 non-null   int32  \n",
      "dtypes: float64(1), int32(12), int64(7)\n",
      "memory usage: 768.1 KB\n"
     ]
    }
   ],
   "source": [
    "# data types after deleting features\n",
    "X.info()"
   ]
  },
  {
   "cell_type": "code",
   "execution_count": 24,
   "id": "e361fd0f-bd94-4eb6-9b61-183fc64f276b",
   "metadata": {},
   "outputs": [
    {
     "data": {
      "image/png": "[encoded data removed]",
      "text/plain": [
       "<Figure size 1500x500 with 2 Axes>"
      ]
     },
     "metadata": {},
     "output_type": "display_data"
    }
   ],
   "source": [
    "fig, axes = plt.subplots(1, 2, figsize=(15, 5))\n",
    "\n",
    "# Plot 1: Histogram with a Kernel Density Estimate\n",
    "sns.histplot(x='TotalCharges', data=X, kde=True, ax=axes[0])\n",
    "axes[0].set_title('Histogram of TotalCharges')\n",
    "\n",
    "# Plot 2: Box Plot\n",
    "sns.boxplot(x='TotalCharges', data=X, ax=axes[1])\n",
    "axes[1].set_title('Box Plot of TotalCharges')\n",
    "\n",
    "plt.tight_layout()\n",
    "plt.show()"
   ]
  },
  {
   "cell_type": "code",
   "execution_count": 25,
   "id": "c907baa0-692f-4bae-b155-6f5761ccd6e9",
   "metadata": {},
   "outputs": [
    {
     "data": {
      "text/plain": [
       "'\\nNote that we are dealing with a long tail decomposition.For some models this may be a problem, \\nfor others it may not - we will deal with this during the learningass of individual models.\\n\\nWe could, when removing correlated features, select tenure and verify the learning effects.\\n'"
      ]
     },
     "execution_count": 25,
     "metadata": {},
     "output_type": "execute_result"
    }
   ],
   "source": [
    "\"\"\"\n",
    "Note that we are dealing with a long tail decomposition.For some models this may be a problem, \n",
    "for others it may not - we will deal with this during the learningass of individual models.\n",
    "\n",
    "We could, when removing correlated features, select tenure and verify the learning effects.\n",
    "\"\"\""
   ]
  },
  {
   "cell_type": "code",
   "execution_count": 26,
   "id": "0c7b8791-8964-4343-ac9d-bdff16ac06bd",
   "metadata": {},
   "outputs": [
    {
     "data": {
      "image/png": "[encoded data removed]",
      "text/plain": [
       "<Figure size 2000x2500 with 20 Axes>"
      ]
     },
     "metadata": {},
     "output_type": "display_data"
    }
   ],
   "source": [
    "# Plotting for discrete variables\n",
    "discrete_features = [\n",
    "     'gender', 'SeniorCitizen', 'Partner', 'Dependents', 'PhoneService',\n",
    "     'Contract', 'PaperlessBilling', 'MultipleLines_Yes',\n",
    "     'InternetService_Fiber optic', 'OnlineSecurity_Yes', 'OnlineBackup_Yes',\n",
    "     'DeviceProtection_No internet service', 'DeviceProtection_Yes',\n",
    "     'TechSupport_Yes', 'StreamingTV_Yes', 'StreamingMovies_Yes',\n",
    "     'PaymentMethod_Credit card (automatic)', 'PaymentMethod_Electronic check',\n",
    "     'PaymentMethod_Mailed check'\n",
    "]\n",
    "\n",
    "num_plots = len(discrete_features)\n",
    "num_cols = 4 \n",
    "num_rows = math.ceil(num_plots / num_cols)\n",
    "\n",
    "fig, axes = plt.subplots(num_rows, num_cols, figsize=(20, 5 * num_rows))\n",
    "\n",
    "axes = axes.flatten()\n",
    "\n",
    "for i, col in enumerate(discrete_features):\n",
    "    sns.countplot(x=col, \n",
    "                  data=X, \n",
    "                  ax=axes[i], \n",
    "                  palette='viridis', \n",
    "                  hue=col, \n",
    "                  legend=False)\n",
    "                  \n",
    "    axes[i].set_title(f'Counts for {col}', fontsize=12)\n",
    "    axes[i].set_xlabel('') \n",
    "    axes[i].set_ylabel('Count')\n",
    "\n",
    "\n",
    "for j in range(num_plots, len(axes)):\n",
    "    axes[j].set_visible(False)\n",
    "\n",
    "plt.tight_layout()\n",
    "plt.show()"
   ]
  },
  {
   "cell_type": "code",
   "execution_count": 27,
   "id": "c1f9cfd5-a925-489e-affe-535897b0d1eb",
   "metadata": {},
   "outputs": [
    {
     "data": {
      "text/plain": [
       "'\\nWe are not dealing with typical outliers. \\nThe PhoneService trait has low variance and may not have high validity, \\nwe leave it for now because it may have informational value.\\n'"
      ]
     },
     "execution_count": 27,
     "metadata": {},
     "output_type": "execute_result"
    }
   ],
   "source": [
    "\"\"\"\n",
    "We are not dealing with typical outliers. \n",
    "The PhoneService trait has low variance and may not have high validity, \n",
    "we leave it for now because it may have informational value.\n",
    "\"\"\""
   ]
  },
  {
   "cell_type": "markdown",
   "id": "3ecb4ba6-cfbb-4f0c-a791-7f965aba8aa7",
   "metadata": {},
   "source": [
    "#### There is no need to investigate outliers further - preliminary analysis has shown that reaching for strong techniques such as IsolationForest would be “torturing the data into admitting anything.”\n",
    "#### The next step is to balance the dependent variable and models training."
   ]
  },
  {
   "cell_type": "code",
   "execution_count": 28,
   "id": "890cdf54-3196-4b5e-836f-ad3303ec32b0",
   "metadata": {},
   "outputs": [
    {
     "data": {
      "application/vnd.plotly.v1+json": {
       "config": {
        "linkText": "Export to plot.ly",
        "plotlyServerURL": "https://plot.ly",
        "showLink": false
       },
       "data": [
        {
         "hole": 0.5,
         "hoverinfo": "label+value+text",
         "labels": [
          0,
          1
         ],
         "marker": {
          "colors": [
           "#FC7753",
           "#66D7D1"
          ],
          "line": {
           "color": "white",
           "width": 1.3
          }
         },
         "rotation": 90,
         "type": "pie",
         "values": [
          5164,
          1857
         ]
        }
       ],
       "layout": {
        "autosize": true,
        "paper_bgcolor": "rgb(243, 243, 243)",
        "template": {
         "data": {
          "bar": [
           {
            "error_x": {
             "color": "#2a3f5f"
            },
            "error_y": {
             "color": "#2a3f5f"
            },
            "marker": {
             "line": {
              "color": "#E5ECF6",
              "width": 0.5
             },
             "pattern": {
              "fillmode": "overlay",
              "size": 10,
              "solidity": 0.2
             }
            },
            "type": "bar"
           }
          ],
          "barpolar": [
           {
            "marker": {
             "line": {
              "color": "#E5ECF6",
              "width": 0.5
             },
             "pattern": {
              "fillmode": "overlay",
              "size": 10,
              "solidity": 0.2
             }
            },
            "type": "barpolar"
           }
          ],
          "carpet": [
           {
            "aaxis": {
             "endlinecolor": "#2a3f5f",
             "gridcolor": "white",
             "linecolor": "white",
             "minorgridcolor": "white",
             "startlinecolor": "#2a3f5f"
            },
            "baxis": {
             "endlinecolor": "#2a3f5f",
             "gridcolor": "white",
             "linecolor": "white",
             "minorgridcolor": "white",
             "startlinecolor": "#2a3f5f"
            },
            "type": "carpet"
           }
          ],
          "choropleth": [
           {
            "colorbar": {
             "outlinewidth": 0,
             "ticks": ""
            },
            "type": "choropleth"
           }
          ],
          "contour": [
           {
            "colorbar": {
             "outlinewidth": 0,
             "ticks": ""
            },
            "colorscale": [
             [
              0,
              "#0d0887"
             ],
             [
              0.1111111111111111,
              "#46039f"
             ],
             [
              0.2222222222222222,
              "#7201a8"
             ],
             [
              0.3333333333333333,
              "#9c179e"
             ],
             [
              0.4444444444444444,
              "#bd3786"
             ],
             [
              0.5555555555555556,
              "#d8576b"
             ],
             [
              0.6666666666666666,
              "#ed7953"
             ],
             [
              0.7777777777777778,
              "#fb9f3a"
             ],
             [
              0.8888888888888888,
              "#fdca26"
             ],
             [
              1,
              "#f0f921"
             ]
            ],
            "type": "contour"
           }
          ],
          "contourcarpet": [
           {
            "colorbar": {
             "outlinewidth": 0,
             "ticks": ""
            },
            "type": "contourcarpet"
           }
          ],
          "heatmap": [
           {
            "colorbar": {
             "outlinewidth": 0,
             "ticks": ""
            },
            "colorscale": [
             [
              0,
              "#0d0887"
             ],
             [
              0.1111111111111111,
              "#46039f"
             ],
             [
              0.2222222222222222,
              "#7201a8"
             ],
             [
              0.3333333333333333,
              "#9c179e"
             ],
             [
              0.4444444444444444,
              "#bd3786"
             ],
             [
              0.5555555555555556,
              "#d8576b"
             ],
             [
              0.6666666666666666,
              "#ed7953"
             ],
             [
              0.7777777777777778,
              "#fb9f3a"
             ],
             [
              0.8888888888888888,
              "#fdca26"
             ],
             [
              1,
              "#f0f921"
             ]
            ],
            "type": "heatmap"
           }
          ],
          "histogram": [
           {
            "marker": {
             "pattern": {
              "fillmode": "overlay",
              "size": 10,
              "solidity": 0.2
             }
            },
            "type": "histogram"
           }
          ],
          "histogram2d": [
           {
            "colorbar": {
             "outlinewidth": 0,
             "ticks": ""
            },
            "colorscale": [
             [
              0,
              "#0d0887"
             ],
             [
              0.1111111111111111,
              "#46039f"
             ],
             [
              0.2222222222222222,
              "#7201a8"
             ],
             [
              0.3333333333333333,
              "#9c179e"
             ],
             [
              0.4444444444444444,
              "#bd3786"
             ],
             [
              0.5555555555555556,
              "#d8576b"
             ],
             [
              0.6666666666666666,
              "#ed7953"
             ],
             [
              0.7777777777777778,
              "#fb9f3a"
             ],
             [
              0.8888888888888888,
              "#fdca26"
             ],
             [
              1,
              "#f0f921"
             ]
            ],
            "type": "histogram2d"
           }
          ],
          "histogram2dcontour": [
           {
            "colorbar": {
             "outlinewidth": 0,
             "ticks": ""
            },
            "colorscale": [
             [
              0,
              "#0d0887"
             ],
             [
              0.1111111111111111,
              "#46039f"
             ],
             [
              0.2222222222222222,
              "#7201a8"
             ],
             [
              0.3333333333333333,
              "#9c179e"
             ],
             [
              0.4444444444444444,
              "#bd3786"
             ],
             [
              0.5555555555555556,
              "#d8576b"
             ],
             [
              0.6666666666666666,
              "#ed7953"
             ],
             [
              0.7777777777777778,
              "#fb9f3a"
             ],
             [
              0.8888888888888888,
              "#fdca26"
             ],
             [
              1,
              "#f0f921"
             ]
            ],
            "type": "histogram2dcontour"
           }
          ],
          "mesh3d": [
           {
            "colorbar": {
             "outlinewidth": 0,
             "ticks": ""
            },
            "type": "mesh3d"
           }
          ],
          "parcoords": [
           {
            "line": {
             "colorbar": {
              "outlinewidth": 0,
              "ticks": ""
             }
            },
            "type": "parcoords"
           }
          ],
          "pie": [
           {
            "automargin": true,
            "type": "pie"
           }
          ],
          "scatter": [
           {
            "fillpattern": {
             "fillmode": "overlay",
             "size": 10,
             "solidity": 0.2
            },
            "type": "scatter"
           }
          ],
          "scatter3d": [
           {
            "line": {
             "colorbar": {
              "outlinewidth": 0,
              "ticks": ""
             }
            },
            "marker": {
             "colorbar": {
              "outlinewidth": 0,
              "ticks": ""
             }
            },
            "type": "scatter3d"
           }
          ],
          "scattercarpet": [
           {
            "marker": {
             "colorbar": {
              "outlinewidth": 0,
              "ticks": ""
             }
            },
            "type": "scattercarpet"
           }
          ],
          "scattergeo": [
           {
            "marker": {
             "colorbar": {
              "outlinewidth": 0,
              "ticks": ""
             }
            },
            "type": "scattergeo"
           }
          ],
          "scattergl": [
           {
            "marker": {
             "colorbar": {
              "outlinewidth": 0,
              "ticks": ""
             }
            },
            "type": "scattergl"
           }
          ],
          "scattermap": [
           {
            "marker": {
             "colorbar": {
              "outlinewidth": 0,
              "ticks": ""
             }
            },
            "type": "scattermap"
           }
          ],
          "scattermapbox": [
           {
            "marker": {
             "colorbar": {
              "outlinewidth": 0,
              "ticks": ""
             }
            },
            "type": "scattermapbox"
           }
          ],
          "scatterpolar": [
           {
            "marker": {
             "colorbar": {
              "outlinewidth": 0,
              "ticks": ""
             }
            },
            "type": "scatterpolar"
           }
          ],
          "scatterpolargl": [
           {
            "marker": {
             "colorbar": {
              "outlinewidth": 0,
              "ticks": ""
             }
            },
            "type": "scatterpolargl"
           }
          ],
          "scatterternary": [
           {
            "marker": {
             "colorbar": {
              "outlinewidth": 0,
              "ticks": ""
             }
            },
            "type": "scatterternary"
           }
          ],
          "surface": [
           {
            "colorbar": {
             "outlinewidth": 0,
             "ticks": ""
            },
            "colorscale": [
             [
              0,
              "#0d0887"
             ],
             [
              0.1111111111111111,
              "#46039f"
             ],
             [
              0.2222222222222222,
              "#7201a8"
             ],
             [
              0.3333333333333333,
              "#9c179e"
             ],
             [
              0.4444444444444444,
              "#bd3786"
             ],
             [
              0.5555555555555556,
              "#d8576b"
             ],
             [
              0.6666666666666666,
              "#ed7953"
             ],
             [
              0.7777777777777778,
              "#fb9f3a"
             ],
             [
              0.8888888888888888,
              "#fdca26"
             ],
             [
              1,
              "#f0f921"
             ]
            ],
            "type": "surface"
           }
          ],
          "table": [
           {
            "cells": {
             "fill": {
              "color": "#EBF0F8"
             },
             "line": {
              "color": "white"
             }
            },
            "header": {
             "fill": {
              "color": "#C8D4E3"
             },
             "line": {
              "color": "white"
             }
            },
            "type": "table"
           }
          ]
         },
         "layout": {
          "annotationdefaults": {
           "arrowcolor": "#2a3f5f",
           "arrowhead": 0,
           "arrowwidth": 1
          },
          "autotypenumbers": "strict",
          "coloraxis": {
           "colorbar": {
            "outlinewidth": 0,
            "ticks": ""
           }
          },
          "colorscale": {
           "diverging": [
            [
             0,
             "#8e0152"
            ],
            [
             0.1,
             "#c51b7d"
            ],
            [
             0.2,
             "#de77ae"
            ],
            [
             0.3,
             "#f1b6da"
            ],
            [
             0.4,
             "#fde0ef"
            ],
            [
             0.5,
             "#f7f7f7"
            ],
            [
             0.6,
             "#e6f5d0"
            ],
            [
             0.7,
             "#b8e186"
            ],
            [
             0.8,
             "#7fbc41"
            ],
            [
             0.9,
             "#4d9221"
            ],
            [
             1,
             "#276419"
            ]
           ],
           "sequential": [
            [
             0,
             "#0d0887"
            ],
            [
             0.1111111111111111,
             "#46039f"
            ],
            [
             0.2222222222222222,
             "#7201a8"
            ],
            [
             0.3333333333333333,
             "#9c179e"
            ],
            [
             0.4444444444444444,
             "#bd3786"
            ],
            [
             0.5555555555555556,
             "#d8576b"
            ],
            [
             0.6666666666666666,
             "#ed7953"
            ],
            [
             0.7777777777777778,
             "#fb9f3a"
            ],
            [
             0.8888888888888888,
             "#fdca26"
            ],
            [
             1,
             "#f0f921"
            ]
           ],
           "sequentialminus": [
            [
             0,
             "#0d0887"
            ],
            [
             0.1111111111111111,
             "#46039f"
            ],
            [
             0.2222222222222222,
             "#7201a8"
            ],
            [
             0.3333333333333333,
             "#9c179e"
            ],
            [
             0.4444444444444444,
             "#bd3786"
            ],
            [
             0.5555555555555556,
             "#d8576b"
            ],
            [
             0.6666666666666666,
             "#ed7953"
            ],
            [
             0.7777777777777778,
             "#fb9f3a"
            ],
            [
             0.8888888888888888,
             "#fdca26"
            ],
            [
             1,
             "#f0f921"
            ]
           ]
          },
          "colorway": [
           "#636efa",
           "#EF553B",
           "#00cc96",
           "#ab63fa",
           "#FFA15A",
           "#19d3f3",
           "#FF6692",
           "#B6E880",
           "#FF97FF",
           "#FECB52"
          ],
          "font": {
           "color": "#2a3f5f"
          },
          "geo": {
           "bgcolor": "white",
           "lakecolor": "white",
           "landcolor": "#E5ECF6",
           "showlakes": true,
           "showland": true,
           "subunitcolor": "white"
          },
          "hoverlabel": {
           "align": "left"
          },
          "hovermode": "closest",
          "mapbox": {
           "style": "light"
          },
          "paper_bgcolor": "white",
          "plot_bgcolor": "#E5ECF6",
          "polar": {
           "angularaxis": {
            "gridcolor": "white",
            "linecolor": "white",
            "ticks": ""
           },
           "bgcolor": "#E5ECF6",
           "radialaxis": {
            "gridcolor": "white",
            "linecolor": "white",
            "ticks": ""
           }
          },
          "scene": {
           "xaxis": {
            "backgroundcolor": "#E5ECF6",
            "gridcolor": "white",
            "gridwidth": 2,
            "linecolor": "white",
            "showbackground": true,
            "ticks": "",
            "zerolinecolor": "white"
           },
           "yaxis": {
            "backgroundcolor": "#E5ECF6",
            "gridcolor": "white",
            "gridwidth": 2,
            "linecolor": "white",
            "showbackground": true,
            "ticks": "",
            "zerolinecolor": "white"
           },
           "zaxis": {
            "backgroundcolor": "#E5ECF6",
            "gridcolor": "white",
            "gridwidth": 2,
            "linecolor": "white",
            "showbackground": true,
            "ticks": "",
            "zerolinecolor": "white"
           }
          },
          "shapedefaults": {
           "line": {
            "color": "#2a3f5f"
           }
          },
          "ternary": {
           "aaxis": {
            "gridcolor": "white",
            "linecolor": "white",
            "ticks": ""
           },
           "baxis": {
            "gridcolor": "white",
            "linecolor": "white",
            "ticks": ""
           },
           "bgcolor": "#E5ECF6",
           "caxis": {
            "gridcolor": "white",
            "linecolor": "white",
            "ticks": ""
           }
          },
          "title": {
           "x": 0.05
          },
          "xaxis": {
           "automargin": true,
           "gridcolor": "white",
           "linecolor": "white",
           "ticks": "",
           "title": {
            "standoff": 15
           },
           "zerolinecolor": "white",
           "zerolinewidth": 2
          },
          "yaxis": {
           "automargin": true,
           "gridcolor": "white",
           "linecolor": "white",
           "ticks": "",
           "title": {
            "standoff": 15
           },
           "zerolinecolor": "white",
           "zerolinewidth": 2
          }
         }
        },
        "title": {
         "text": "What percentage of customers have stopped using the company's services?"
        }
       }
      },
      "image/png": "[encoded data removed]"
     },
     "metadata": {},
     "output_type": "display_data"
    }
   ],
   "source": [
    "trace = go.Pie(labels = y.value_counts().keys().tolist(),\n",
    "               values = y.value_counts().values.tolist(),\n",
    "               marker = dict(colors = ['#FC7753', '#66D7D1'],\n",
    "                             line = dict(color = 'white', width =  1.3)\n",
    "                            ),\n",
    "               rotation = 90,\n",
    "               hoverinfo = 'label + value + text',\n",
    "               hole = .5\n",
    "              )\n",
    "layout = go.Layout(dict(title = \"What percentage of customers have stopped using the company's services?\",\n",
    "                        paper_bgcolor = 'rgb(243, 243, 243)',\n",
    "                       )\n",
    "                  )\n",
    "data = [trace]\n",
    "fig = go.Figure(data = data, layout = layout)\n",
    "py.iplot(fig)"
   ]
  },
  {
   "cell_type": "code",
   "execution_count": 29,
   "id": "c5f8c8ee-8658-44e0-88a7-50bee75a1f54",
   "metadata": {},
   "outputs": [],
   "source": [
    "# We are dealing with an unbalanced dependent variable, which is typical for churn prediction analysis"
   ]
  },
  {
   "cell_type": "markdown",
   "id": "b42ade9d-a633-4b6a-842c-3e54ffd8a292",
   "metadata": {},
   "source": [
    "We will combine the types of sampling with model training. We will study such pairs with the recall metric. It is the best because in churn prediction we are primarily concerned with identifying potential customer departures. We use a standard cross-validation procedure."
   ]
  },
  {
   "cell_type": "code",
   "execution_count": 30,
   "id": "43ae02fc-6484-4a07-80ed-eb015d5a0de3",
   "metadata": {},
   "outputs": [],
   "source": [
    "warnings.filterwarnings(\n",
    "    \"ignore\",\n",
    "    message=r\".*X does not have valid feature names.*\"\n",
    ")\n",
    "\n",
    "def run_baseline_experiment(X_train: pd.DataFrame, y_train: pd.Series, models: dict, samplers: dict) -> pd.DataFrame:\n",
    "    \"\"\"Runs cross-validation for all model-sampler combinations with default parameters.\"\"\"\n",
    "    results_list = []\n",
    "    scoring = {'recall': make_scorer(recall_score)}\n",
    "\n",
    "    for sampler_name, sampler in samplers.items():\n",
    "        for model_name, model in models.items():\n",
    "            pipeline = ImbPipeline(steps=[('sampler', sampler), ('model', model)])\n",
    "            kfold = StratifiedKFold(n_splits=4, random_state=7, shuffle = True)\n",
    "            cv_results = cross_validate(pipeline, X_train, y_train, cv=kfold, scoring=scoring)\n",
    "            results_list.append({\n",
    "                'model': model_name,\n",
    "                'sampler': sampler_name,\n",
    "                'mean_recall': cv_results['test_recall'].mean()\n",
    "            })\n",
    "            print(f\"  > Completed: {model_name} with {sampler_name}\")\n",
    "\n",
    "    results_df = pd.DataFrame(results_list)\n",
    "    return results_df.sort_values(by='mean_recall', ascending=False)\n",
    "\n",
    "def tune_top_combinations(baseline_results: pd.DataFrame, X_train: pd.DataFrame, y_train: pd.Series, models: dict, samplers: dict, search_spaces: dict, top_n: int = 2, n_iter: int = 15):\n",
    "    \"\"\"Performs Bayesian hyperparameter tuning on the top N combinations.\"\"\"\n",
    "    best_combinations = baseline_results.head(top_n)\n",
    "\n",
    "    for index, row in best_combinations.iterrows():\n",
    "        model_name = row['model']\n",
    "        sampler_name = row['sampler']\n",
    "        \n",
    "        print(f\"\\n--- Tuning: {model_name} with {sampler_name} ---\")\n",
    "        \n",
    "        model = models[model_name]\n",
    "        sampler = samplers[sampler_name]\n",
    "        pipeline = ImbPipeline(steps=[('sampler', sampler), ('model', model)])\n",
    "        \n",
    "        if model_name not in search_spaces:\n",
    "            print(f\"No search space defined for {model_name}. Skipping.\")\n",
    "            continue\n",
    "            \n",
    "        opt = BayesSearchCV(\n",
    "            estimator=pipeline,\n",
    "            search_spaces=search_spaces[model_name],\n",
    "            n_iter=n_iter,\n",
    "            scoring='recall',\n",
    "            cv=StratifiedKFold(n_splits=3, shuffle=True, random_state=7),\n",
    "            random_state=7,\n",
    "            n_jobs=-1,\n",
    "            verbose=0\n",
    "        )\n",
    "        \n",
    "        opt.fit(X_train, y_train)\n",
    "        \n",
    "        print(f\"Best recall score for this combination: {opt.best_score_:.4f}\")\n",
    "        print(opt.best_params_)"
   ]
  },
  {
   "cell_type": "markdown",
   "id": "aacdfdc8-d4d1-4aba-a57d-053c89930524",
   "metadata": {},
   "source": [
    "First we deal with models that do not require scaling or transformation. We use some basic models as well as modern ones. As for sampling similarly - we will check out the classic methods as well as the modern ones."
   ]
  },
  {
   "cell_type": "code",
   "execution_count": 31,
   "id": "3e433912-e4e8-4236-a43a-5bffe014c9fa",
   "metadata": {},
   "outputs": [],
   "source": [
    "models = {\n",
    "        \"Decision Tree\": DecisionTreeClassifier(random_state=7),\n",
    "        \"Random Forest\": RandomForestClassifier(random_state=7, n_jobs=-1),\n",
    "        \"AdaBoost\": AdaBoostClassifier(random_state=7),\n",
    "        \"Gradient Boosting\": GradientBoostingClassifier(random_state=7),\n",
    "        \"XGBoost\": XGBClassifier(random_state=7, eval_metric='logloss', n_jobs=-1),\n",
    "        \"LightGBM\": LGBMClassifier(random_state=7, n_jobs=-1, verbosity=-1)\n",
    "    }\n",
    "\n",
    "samplers = {\n",
    "        \"None\": None,\n",
    "        \"RandomOverSampler\": RandomOverSampler(random_state=7),\n",
    "        \"RandomUnderSampler\": RandomUnderSampler(random_state=7),\n",
    "        \"SMOTE\": SMOTE(random_state=7),\n",
    "        \"ADASYN\": ADASYN(random_state=7),\n",
    "        \"TomekLinks\": TomekLinks()\n",
    "    }\n",
    "\n",
    "search_spaces = {\n",
    "        \"Random Forest\": {\n",
    "            'model__n_estimators': Integer(100, 1000),\n",
    "            'model__max_depth': Integer(10, 50),\n",
    "            'model__min_samples_leaf': Integer(1, 10)\n",
    "        },\n",
    "        \"XGBoost\": {\n",
    "            'model__n_estimators': Integer(100, 1000),\n",
    "            'model__learning_rate': Real(0.01, 0.3, 'log-uniform'),\n",
    "            'model__max_depth': Integer(3, 10),\n",
    "        },\n",
    "        \"LightGBM\": {\n",
    "            'model__n_estimators': Integer(100, 1000),\n",
    "            'model__learning_rate': Real(0.01, 0.3, 'log-uniform'),\n",
    "            'model__num_leaves': Integer(20, 100),\n",
    "        },\n",
    "        \"Decision Tree\": {\"model__max_depth\": Integer(1, 50)},\n",
    "        \"AdaBoost\": {\"model__n_estimators\": Integer(50, 500), \"model__learning_rate\": Real(0.01, 1.0, 'log-uniform')},\n",
    "        \"Gradient Boosting\": {\"model__n_estimators\": Integer(100, 500), \"model__learning_rate\": Real(0.01, 0.2, 'log-uniform')}\n",
    "    }"
   ]
  },
  {
   "cell_type": "code",
   "execution_count": 83,
   "id": "2a93adea-b9fe-495c-a853-bc05ccc12a2f",
   "metadata": {},
   "outputs": [
    {
     "name": "stdout",
     "output_type": "stream",
     "text": [
      "  > Completed: Decision Tree with None\n",
      "  > Completed: Random Forest with None\n",
      "  > Completed: AdaBoost with None\n",
      "  > Completed: Gradient Boosting with None\n",
      "  > Completed: XGBoost with None\n",
      "  > Completed: LightGBM with None\n",
      "  > Completed: Decision Tree with RandomOverSampler\n",
      "  > Completed: Random Forest with RandomOverSampler\n",
      "  > Completed: AdaBoost with RandomOverSampler\n",
      "  > Completed: Gradient Boosting with RandomOverSampler\n",
      "  > Completed: XGBoost with RandomOverSampler\n",
      "  > Completed: LightGBM with RandomOverSampler\n",
      "  > Completed: Decision Tree with RandomUnderSampler\n",
      "  > Completed: Random Forest with RandomUnderSampler\n",
      "  > Completed: AdaBoost with RandomUnderSampler\n",
      "  > Completed: Gradient Boosting with RandomUnderSampler\n",
      "  > Completed: XGBoost with RandomUnderSampler\n",
      "  > Completed: LightGBM with RandomUnderSampler\n",
      "  > Completed: Decision Tree with SMOTE\n",
      "  > Completed: Random Forest with SMOTE\n",
      "  > Completed: AdaBoost with SMOTE\n",
      "  > Completed: Gradient Boosting with SMOTE\n",
      "  > Completed: XGBoost with SMOTE\n",
      "  > Completed: LightGBM with SMOTE\n",
      "  > Completed: Decision Tree with ADASYN\n",
      "  > Completed: Random Forest with ADASYN\n",
      "  > Completed: AdaBoost with ADASYN\n",
      "  > Completed: Gradient Boosting with ADASYN\n",
      "  > Completed: XGBoost with ADASYN\n",
      "  > Completed: LightGBM with ADASYN\n",
      "  > Completed: Decision Tree with TomekLinks\n",
      "  > Completed: Random Forest with TomekLinks\n",
      "  > Completed: AdaBoost with TomekLinks\n",
      "  > Completed: Gradient Boosting with TomekLinks\n",
      "  > Completed: XGBoost with TomekLinks\n",
      "  > Completed: LightGBM with TomekLinks\n",
      "                model             sampler  mean_recall\n",
      "8            AdaBoost   RandomOverSampler     0.802867\n",
      "15  Gradient Boosting  RandomUnderSampler     0.800157\n",
      "14           AdaBoost  RandomUnderSampler     0.798093\n",
      "9   Gradient Boosting   RandomOverSampler     0.784519\n",
      "17           LightGBM  RandomUnderSampler     0.776365\n",
      "16            XGBoost  RandomUnderSampler     0.772289\n",
      "13      Random Forest  RandomUnderSampler     0.755276\n",
      "26           AdaBoost              ADASYN     0.746426\n",
      "20           AdaBoost               SMOTE     0.743703\n",
      "11           LightGBM   RandomOverSampler     0.724029\n",
      "27  Gradient Boosting              ADASYN     0.701568\n",
      "21  Gradient Boosting               SMOTE     0.696133\n",
      "12      Decision Tree  RandomUnderSampler     0.675053\n",
      "10            XGBoost   RandomOverSampler     0.647883\n",
      "29           LightGBM              ADASYN     0.637685\n",
      "23           LightGBM               SMOTE     0.632256\n",
      "28            XGBoost              ADASYN     0.617298\n",
      "32           AdaBoost          TomekLinks     0.613207\n",
      "33  Gradient Boosting          TomekLinks     0.609799\n",
      "35           LightGBM          TomekLinks     0.607763\n",
      "22            XGBoost               SMOTE     0.604368\n",
      "34            XGBoost          TomekLinks     0.589415\n",
      "25      Random Forest              ADASYN     0.570358\n",
      "24      Decision Tree              ADASYN     0.567661\n",
      "19      Random Forest               SMOTE     0.565604\n",
      "18      Decision Tree               SMOTE     0.560849\n",
      "31      Random Forest          TomekLinks     0.556103\n",
      "7       Random Forest   RandomOverSampler     0.551345\n",
      "30      Decision Tree          TomekLinks     0.547919\n",
      "5            LightGBM                None     0.542518\n",
      "4             XGBoost                None     0.524151\n",
      "2            AdaBoost                None     0.524146\n",
      "3   Gradient Boosting                None     0.519388\n",
      "0       Decision Tree                None     0.508506\n",
      "6       Decision Tree   RandomOverSampler     0.492860\n",
      "1       Random Forest                None     0.463641\n"
     ]
    }
   ],
   "source": [
    "X_train, X_test, y_train, y_test = train_test_split(X, y, test_size=0.2, random_state=7)\n",
    "\n",
    "baseline_results_df = run_baseline_experiment(X_train, y_train, models, samplers)\n",
    "\n",
    "print(baseline_results_df) "
   ]
  },
  {
   "cell_type": "code",
   "execution_count": 33,
   "id": "9861f427-4aa0-4f58-bd24-7a2e0c8e0b52",
   "metadata": {},
   "outputs": [
    {
     "name": "stdout",
     "output_type": "stream",
     "text": [
      "\n",
      "--- Tuning: AdaBoost with RandomOverSampler ---\n",
      "Best recall score for this combination: 0.8416\n",
      "OrderedDict([('model__learning_rate', 0.05072961263611234), ('model__n_estimators', 292)])\n",
      "\n",
      "--- Tuning: Gradient Boosting with RandomUnderSampler ---\n",
      "Best recall score for this combination: 0.7940\n",
      "OrderedDict([('model__learning_rate', 0.028759624616774778), ('model__n_estimators', 315)])\n",
      "\n",
      "--- Tuning: AdaBoost with RandomUnderSampler ---\n",
      "Best recall score for this combination: 0.8375\n",
      "OrderedDict([('model__learning_rate', 0.05072961263611234), ('model__n_estimators', 292)])\n",
      "\n",
      "--- Tuning: Gradient Boosting with RandomOverSampler ---\n",
      "Best recall score for this combination: 0.7825\n",
      "OrderedDict([('model__learning_rate', 0.028759624616774778), ('model__n_estimators', 315)])\n",
      "\n",
      "--- Tuning: LightGBM with RandomUnderSampler ---\n",
      "Best recall score for this combination: 0.7505\n",
      "OrderedDict([('model__learning_rate', 0.051069061016095485), ('model__n_estimators', 528), ('model__num_leaves', 33)])\n"
     ]
    }
   ],
   "source": [
    "# hyperparameter tuning\n",
    "tune_top_combinations(\n",
    "        baseline_results=baseline_results_df,\n",
    "        X_train=X_train,\n",
    "        y_train=y_train,\n",
    "        models=models,\n",
    "        samplers=samplers,\n",
    "        search_spaces=search_spaces,\n",
    "        top_n=5,\n",
    "        n_iter=5\n",
    "    )"
   ]
  },
  {
   "cell_type": "code",
   "execution_count": 34,
   "id": "c626b328-d2b8-48a5-a071-ed3afb442d6e",
   "metadata": {},
   "outputs": [],
   "source": [
    "# transformation and scaling for sensitive models\n",
    "X_transformed = X.copy()\n",
    "\n",
    "transformed_charges, _ = stats.boxcox(X_transformed['TotalCharges'])\n",
    "X_transformed['TotalCharges'] = transformed_charges\n",
    "\n",
    "\n",
    "scaler = StandardScaler()\n",
    "X_transformed['TotalCharges'] = scaler.fit_transform(X_transformed[['TotalCharges']])"
   ]
  },
  {
   "cell_type": "code",
   "execution_count": 35,
   "id": "ba5c4907-c54f-4158-85af-c6827f54c547",
   "metadata": {},
   "outputs": [],
   "source": [
    "models_sensitive = {\n",
    "    \"Logistic Regression\": LogisticRegression(random_state=7, max_iter=1000),\n",
    "    \"k-NN\": KNeighborsClassifier(n_jobs=-1),\n",
    "    \"SVC\": SVC(random_state=7, probability=True),\n",
    "    \"Gaussian Naive Bayes\": GaussianNB()\n",
    "}\n",
    "\n",
    "search_spaces_sensitive = {\n",
    "    \"Logistic Regression\": [{\n",
    "        'model__C': Real(1e-3, 1e+3, 'log-uniform'),\n",
    "        'model__penalty': Categorical(['l1', 'l2']),\n",
    "        'model__solver': Categorical(['liblinear', 'saga']) # Solvers that support all penalties\n",
    "    },\n",
    "    {\n",
    "            'model__penalty': Categorical(['elasticnet']),\n",
    "            'model__solver': Categorical(['saga']), # Only ‘saga’ supports elasticnet\n",
    "            'model__C': Real(1e-3, 1e+3, 'log-uniform'),\n",
    "            'model__l1_ratio': Real(0.0, 1.0, 'uniform') \n",
    "        }                       \n",
    "                           ],\n",
    "    \"k-NN\": {\n",
    "        'model__n_neighbors': Integer(3, 30),\n",
    "        'model__weights': Categorical(['uniform', 'distance']),\n",
    "        'model__p': Integer(1, 2) # 1 for Manhattan, 2 for Euclidean distance\n",
    "    },\n",
    "    \"SVC\": {\n",
    "        'model__C': Real(1e-2, 1e+3, 'log-uniform'),\n",
    "        'model__gamma': Real(1e-4, 1e-1, 'log-uniform'),\n",
    "        'model__kernel': Categorical(['rbf', 'poly'])\n",
    "    },\n",
    "    \"Gaussian Naive Bayes\": {\n",
    "        'model__var_smoothing': Real(1e-10, 1e-8, 'log-uniform')\n",
    "    }\n",
    "}\n"
   ]
  },
  {
   "cell_type": "code",
   "execution_count": 36,
   "id": "ead26304-20ee-4642-befb-3f7e1fa70244",
   "metadata": {},
   "outputs": [
    {
     "name": "stdout",
     "output_type": "stream",
     "text": [
      "  > Completed: Logistic Regression with None\n",
      "  > Completed: k-NN with None\n",
      "  > Completed: SVC with None\n",
      "  > Completed: Gaussian Naive Bayes with None\n",
      "  > Completed: Logistic Regression with RandomOverSampler\n",
      "  > Completed: k-NN with RandomOverSampler\n",
      "  > Completed: SVC with RandomOverSampler\n",
      "  > Completed: Gaussian Naive Bayes with RandomOverSampler\n",
      "  > Completed: Logistic Regression with RandomUnderSampler\n",
      "  > Completed: k-NN with RandomUnderSampler\n",
      "  > Completed: SVC with RandomUnderSampler\n",
      "  > Completed: Gaussian Naive Bayes with RandomUnderSampler\n",
      "  > Completed: Logistic Regression with SMOTE\n",
      "  > Completed: k-NN with SMOTE\n",
      "  > Completed: SVC with SMOTE\n",
      "  > Completed: Gaussian Naive Bayes with SMOTE\n",
      "  > Completed: Logistic Regression with ADASYN\n",
      "  > Completed: k-NN with ADASYN\n",
      "  > Completed: SVC with ADASYN\n",
      "  > Completed: Gaussian Naive Bayes with ADASYN\n",
      "  > Completed: Logistic Regression with TomekLinks\n",
      "  > Completed: k-NN with TomekLinks\n",
      "  > Completed: SVC with TomekLinks\n",
      "  > Completed: Gaussian Naive Bayes with TomekLinks\n",
      "                   model             sampler  mean_recall\n",
      "4    Logistic Regression   RandomOverSampler     0.794024\n",
      "8    Logistic Regression  RandomUnderSampler     0.790624\n",
      "11  Gaussian Naive Bayes  RandomUnderSampler     0.789937\n",
      "7   Gaussian Naive Bayes   RandomOverSampler     0.789260\n",
      "23  Gaussian Naive Bayes          TomekLinks     0.754583\n",
      "3   Gaussian Naive Bayes                None     0.736224\n",
      "12   Logistic Regression               SMOTE     0.701559\n",
      "18                   SVC              ADASYN     0.695480\n",
      "16   Logistic Regression              ADASYN     0.692039\n",
      "19  Gaussian Naive Bayes              ADASYN     0.668943\n",
      "15  Gaussian Naive Bayes               SMOTE     0.656024\n",
      "17                  k-NN              ADASYN     0.602328\n",
      "9                   k-NN  RandomUnderSampler     0.595538\n",
      "20   Logistic Regression          TomekLinks     0.595533\n",
      "5                   k-NN   RandomOverSampler     0.577849\n",
      "10                   SVC  RandomUnderSampler     0.558135\n",
      "13                  k-NN               SMOTE     0.556799\n",
      "0    Logistic Regression                None     0.531646\n",
      "14                   SVC               SMOTE     0.519372\n",
      "6                    SVC   RandomOverSampler     0.508498\n",
      "21                  k-NN          TomekLinks     0.348070\n",
      "1                   k-NN                None     0.281450\n",
      "2                    SVC                None     0.000000\n",
      "22                   SVC          TomekLinks     0.000000\n"
     ]
    }
   ],
   "source": [
    "# for our curiosity we will check if transformation and scaling for this one feature have impact on results\n",
    "X_train, X_test, y_train, y_test = train_test_split(X, y, test_size=0.2, random_state=7)\n",
    "\n",
    "baseline_results_df = run_baseline_experiment(X_train, y_train, models_sensitive, samplers)\n",
    "\n",
    "print(baseline_results_df)"
   ]
  },
  {
   "cell_type": "code",
   "execution_count": 37,
   "id": "dfe25952-4b44-41d8-9dcd-97d0a80d507b",
   "metadata": {},
   "outputs": [
    {
     "name": "stdout",
     "output_type": "stream",
     "text": [
      "\n",
      "--- Tuning: Logistic Regression with RandomOverSampler ---\n",
      "Best recall score for this combination: 0.7954\n",
      "OrderedDict([('model__C', 0.7524980524543861), ('model__penalty', 'l1'), ('model__solver', 'liblinear')])\n",
      "\n",
      "--- Tuning: Logistic Regression with RandomUnderSampler ---\n",
      "Best recall score for this combination: 0.7954\n",
      "OrderedDict([('model__C', 0.7524980524543861), ('model__penalty', 'l1'), ('model__solver', 'liblinear')])\n",
      "\n",
      "--- Tuning: Gaussian Naive Bayes with RandomUnderSampler ---\n",
      "Best recall score for this combination: 0.8022\n",
      "OrderedDict([('model__var_smoothing', 9.49453380001038e-09)])\n",
      "\n",
      "--- Tuning: Gaussian Naive Bayes with RandomOverSampler ---\n",
      "Best recall score for this combination: 0.8076\n",
      "OrderedDict([('model__var_smoothing', 9.49453380001038e-09)])\n",
      "\n",
      "--- Tuning: Gaussian Naive Bayes with TomekLinks ---\n",
      "Best recall score for this combination: 0.7600\n",
      "OrderedDict([('model__var_smoothing', 9.49453380001038e-09)])\n"
     ]
    }
   ],
   "source": [
    "# hyperparameter tuning\n",
    "tune_top_combinations(\n",
    "        baseline_results=baseline_results_df,\n",
    "        X_train=X_train,\n",
    "        y_train=y_train,\n",
    "        models=models_sensitive,\n",
    "        samplers=samplers,\n",
    "        search_spaces=search_spaces_sensitive,\n",
    "        top_n=5,\n",
    "        n_iter=5\n",
    "    )"
   ]
  },
  {
   "cell_type": "code",
   "execution_count": 38,
   "id": "310ee0d2-d1c1-4cd2-b322-615c2d6755c4",
   "metadata": {},
   "outputs": [],
   "source": [
    "# Note that we have a different arrangement of winners, the metrics look different."
   ]
  },
  {
   "cell_type": "code",
   "execution_count": 39,
   "id": "abf4f368-a8d0-48c2-b3ee-e323dae7cca9",
   "metadata": {},
   "outputs": [
    {
     "name": "stdout",
     "output_type": "stream",
     "text": [
      "  > Completed: Logistic Regression with None\n",
      "  > Completed: k-NN with None\n",
      "  > Completed: SVC with None\n",
      "  > Completed: Gaussian Naive Bayes with None\n",
      "  > Completed: Logistic Regression with RandomOverSampler\n",
      "  > Completed: k-NN with RandomOverSampler\n",
      "  > Completed: SVC with RandomOverSampler\n",
      "  > Completed: Gaussian Naive Bayes with RandomOverSampler\n",
      "  > Completed: Logistic Regression with RandomUnderSampler\n",
      "  > Completed: k-NN with RandomUnderSampler\n",
      "  > Completed: SVC with RandomUnderSampler\n",
      "  > Completed: Gaussian Naive Bayes with RandomUnderSampler\n",
      "  > Completed: Logistic Regression with SMOTE\n",
      "  > Completed: k-NN with SMOTE\n",
      "  > Completed: SVC with SMOTE\n",
      "  > Completed: Gaussian Naive Bayes with SMOTE\n",
      "  > Completed: Logistic Regression with ADASYN\n",
      "  > Completed: k-NN with ADASYN\n",
      "  > Completed: SVC with ADASYN\n",
      "  > Completed: Gaussian Naive Bayes with ADASYN\n",
      "  > Completed: Logistic Regression with TomekLinks\n",
      "  > Completed: k-NN with TomekLinks\n",
      "  > Completed: SVC with TomekLinks\n",
      "  > Completed: Gaussian Naive Bayes with TomekLinks\n",
      "                   model             sampler  mean_recall\n",
      "10                   SVC  RandomUnderSampler     0.806939\n",
      "18                   SVC              ADASYN     0.799452\n",
      "16   Logistic Regression              ADASYN     0.794694\n",
      "4    Logistic Regression   RandomOverSampler     0.791311\n",
      "11  Gaussian Naive Bayes  RandomUnderSampler     0.790615\n",
      "8    Logistic Regression  RandomUnderSampler     0.788586\n",
      "7   Gaussian Naive Bayes   RandomOverSampler     0.788582\n",
      "19  Gaussian Naive Bayes              ADASYN     0.781772\n",
      "9                   k-NN  RandomUnderSampler     0.779077\n",
      "6                    SVC   RandomOverSampler     0.774308\n",
      "12   Logistic Regression               SMOTE     0.766830\n",
      "17                  k-NN              ADASYN     0.760029\n",
      "14                   SVC               SMOTE     0.753898\n",
      "23  Gaussian Naive Bayes          TomekLinks     0.747792\n",
      "15  Gaussian Naive Bayes               SMOTE     0.744395\n",
      "3   Gaussian Naive Bayes                None     0.727402\n",
      "13                  k-NN               SMOTE     0.726045\n",
      "5                   k-NN   RandomOverSampler     0.721949\n",
      "20   Logistic Regression          TomekLinks     0.614567\n",
      "21                  k-NN          TomekLinks     0.597561\n",
      "22                   SVC          TomekLinks     0.588734\n",
      "0    Logistic Regression                None     0.520069\n",
      "1                   k-NN                None     0.518017\n",
      "2                    SVC                None     0.482000\n"
     ]
    }
   ],
   "source": [
    "X_train, X_test, y_train, y_test = train_test_split(X_transformed, y, test_size=0.2, random_state=7)\n",
    "\n",
    "baseline_results_df = run_baseline_experiment(X_train, y_train, models_sensitive, samplers)\n",
    "\n",
    "print(baseline_results_df)   "
   ]
  },
  {
   "cell_type": "code",
   "execution_count": 40,
   "id": "33d1f538-e9c0-479f-b04b-06574e1f2a0c",
   "metadata": {},
   "outputs": [
    {
     "name": "stdout",
     "output_type": "stream",
     "text": [
      "\n",
      "--- Tuning: SVC with RandomUnderSampler ---\n",
      "Best recall score for this combination: 0.9823\n",
      "OrderedDict([('model__C', 0.5796340174023742), ('model__gamma', 0.004126777766409736), ('model__kernel', 'poly')])\n",
      "\n",
      "--- Tuning: SVC with ADASYN ---\n",
      "Best recall score for this combination: 0.9633\n",
      "OrderedDict([('model__C', 0.4830417342270155), ('model__gamma', 0.019558222632307193), ('model__kernel', 'poly')])\n",
      "\n",
      "--- Tuning: Logistic Regression with ADASYN ---\n",
      "Best recall score for this combination: 0.7995\n",
      "OrderedDict([('model__C', 0.13055233335870875), ('model__penalty', 'l2'), ('model__solver', 'saga')])\n",
      "\n",
      "--- Tuning: Logistic Regression with RandomOverSampler ---\n",
      "Best recall score for this combination: 0.7899\n",
      "OrderedDict([('model__C', 0.10490147285135734), ('model__penalty', 'l2'), ('model__solver', 'saga')])\n",
      "\n",
      "--- Tuning: Gaussian Naive Bayes with RandomUnderSampler ---\n",
      "Best recall score for this combination: 0.7859\n",
      "OrderedDict([('model__var_smoothing', 9.49453380001038e-09)])\n"
     ]
    }
   ],
   "source": [
    "# hyperparameter tuning\n",
    "tune_top_combinations(\n",
    "        baseline_results=baseline_results_df,\n",
    "        X_train=X_train,\n",
    "        y_train=y_train,\n",
    "        models=models_sensitive,\n",
    "        samplers=samplers,\n",
    "        search_spaces=search_spaces_sensitive,\n",
    "        top_n=5,\n",
    "        n_iter=5\n",
    "    )"
   ]
  },
  {
   "cell_type": "markdown",
   "id": "5aaecb00-8156-4ffc-9056-14d1eaa84a0b",
   "metadata": {},
   "source": [
    "#### Because we're curious we'll investigate further what would happen if.... we chose the tenure feature."
   ]
  },
  {
   "cell_type": "code",
   "execution_count": 41,
   "id": "65fd66cc-cb15-4b02-a9e5-24cf2c1d08ee",
   "metadata": {},
   "outputs": [
    {
     "data": {
      "image/png": "[encoded data removed]",
      "text/plain": [
       "<Figure size 1500x500 with 2 Axes>"
      ]
     },
     "metadata": {},
     "output_type": "display_data"
    }
   ],
   "source": [
    "# distribution is balanced\n",
    "fig, axes = plt.subplots(1, 2, figsize=(15, 5))\n",
    "\n",
    "# Plot 1: Histogram with a Kernel Density Estimate\n",
    "sns.histplot(x='tenure', data=X_tenure, kde=True, ax=axes[0])\n",
    "axes[0].set_title('Histogram of tenure')\n",
    "\n",
    "# Plot 2: Box Plot\n",
    "sns.boxplot(x='tenure', data=X_tenure, ax=axes[1])\n",
    "axes[1].set_title('Box Plot of tenure')\n",
    "\n",
    "plt.tight_layout()\n",
    "plt.show()"
   ]
  },
  {
   "cell_type": "code",
   "execution_count": 42,
   "id": "a4f02430-c628-4baa-8b09-33431953db0d",
   "metadata": {},
   "outputs": [
    {
     "name": "stdout",
     "output_type": "stream",
     "text": [
      "  > Completed: Decision Tree with None\n",
      "  > Completed: Random Forest with None\n",
      "  > Completed: AdaBoost with None\n",
      "  > Completed: Gradient Boosting with None\n",
      "  > Completed: XGBoost with None\n",
      "  > Completed: LightGBM with None\n",
      "  > Completed: Decision Tree with RandomOverSampler\n",
      "  > Completed: Random Forest with RandomOverSampler\n",
      "  > Completed: AdaBoost with RandomOverSampler\n",
      "  > Completed: Gradient Boosting with RandomOverSampler\n",
      "  > Completed: XGBoost with RandomOverSampler\n",
      "  > Completed: LightGBM with RandomOverSampler\n",
      "  > Completed: Decision Tree with RandomUnderSampler\n",
      "  > Completed: Random Forest with RandomUnderSampler\n",
      "  > Completed: AdaBoost with RandomUnderSampler\n",
      "  > Completed: Gradient Boosting with RandomUnderSampler\n",
      "  > Completed: XGBoost with RandomUnderSampler\n",
      "  > Completed: LightGBM with RandomUnderSampler\n",
      "  > Completed: Decision Tree with SMOTE\n",
      "  > Completed: Random Forest with SMOTE\n",
      "  > Completed: AdaBoost with SMOTE\n",
      "  > Completed: Gradient Boosting with SMOTE\n",
      "  > Completed: XGBoost with SMOTE\n",
      "  > Completed: LightGBM with SMOTE\n",
      "  > Completed: Decision Tree with ADASYN\n",
      "  > Completed: Random Forest with ADASYN\n",
      "  > Completed: AdaBoost with ADASYN\n",
      "  > Completed: Gradient Boosting with ADASYN\n",
      "  > Completed: XGBoost with ADASYN\n",
      "  > Completed: LightGBM with ADASYN\n",
      "  > Completed: Decision Tree with TomekLinks\n",
      "  > Completed: Random Forest with TomekLinks\n",
      "  > Completed: AdaBoost with TomekLinks\n",
      "  > Completed: Gradient Boosting with TomekLinks\n",
      "  > Completed: XGBoost with TomekLinks\n",
      "  > Completed: LightGBM with TomekLinks\n",
      "                model             sampler  mean_recall\n",
      "14           AdaBoost  RandomUnderSampler     0.808990\n",
      "8            AdaBoost   RandomOverSampler     0.808318\n",
      "15  Gradient Boosting  RandomUnderSampler     0.801514\n",
      "9   Gradient Boosting   RandomOverSampler     0.782485\n",
      "17           LightGBM  RandomUnderSampler     0.779071\n",
      "26           AdaBoost              ADASYN     0.762065\n",
      "20           AdaBoost               SMOTE     0.760710\n",
      "13      Random Forest  RandomUnderSampler     0.758689\n",
      "16            XGBoost  RandomUnderSampler     0.758670\n",
      "11           LightGBM   RandomOverSampler     0.721295\n",
      "27  Gradient Boosting              ADASYN     0.706327\n",
      "21  Gradient Boosting               SMOTE     0.694086\n",
      "12      Decision Tree  RandomUnderSampler     0.666211\n",
      "10            XGBoost   RandomOverSampler     0.641084\n",
      "29           LightGBM              ADASYN     0.638357\n",
      "23           LightGBM               SMOTE     0.622731\n",
      "32           AdaBoost          TomekLinks     0.612514\n",
      "33  Gradient Boosting          TomekLinks     0.607087\n",
      "35           LightGBM          TomekLinks     0.593496\n",
      "25      Random Forest              ADASYN     0.592806\n",
      "22            XGBoost               SMOTE     0.591449\n",
      "34            XGBoost          TomekLinks     0.590768\n",
      "28            XGBoost              ADASYN     0.588071\n",
      "7       Random Forest   RandomOverSampler     0.569704\n",
      "19      Random Forest               SMOTE     0.569695\n",
      "31      Random Forest          TomekLinks     0.552715\n",
      "24      Decision Tree              ADASYN     0.549294\n",
      "30      Decision Tree          TomekLinks     0.542523\n",
      "3   Gradient Boosting                None     0.526184\n",
      "4             XGBoost                None     0.524817\n",
      "18      Decision Tree               SMOTE     0.522781\n",
      "5            LightGBM                None     0.520055\n",
      "2            AdaBoost                None     0.503039\n",
      "6       Decision Tree   RandomOverSampler     0.487442\n",
      "0       Decision Tree                None     0.472487\n",
      "1       Random Forest                None     0.468406\n"
     ]
    }
   ],
   "source": [
    "X_train, X_test, y_train, y_test = train_test_split(X_tenure, y, test_size=0.2, random_state=7)\n",
    "\n",
    "baseline_results_df = run_baseline_experiment(X_train, y_train, models, samplers)\n",
    "\n",
    "print(baseline_results_df) "
   ]
  },
  {
   "cell_type": "code",
   "execution_count": 43,
   "id": "f43bc689-2aa7-49a8-a759-57adea41e0b9",
   "metadata": {},
   "outputs": [
    {
     "name": "stdout",
     "output_type": "stream",
     "text": [
      "  > Completed: Logistic Regression with None\n",
      "  > Completed: k-NN with None\n",
      "  > Completed: SVC with None\n",
      "  > Completed: Gaussian Naive Bayes with None\n",
      "  > Completed: Logistic Regression with RandomOverSampler\n",
      "  > Completed: k-NN with RandomOverSampler\n",
      "  > Completed: SVC with RandomOverSampler\n",
      "  > Completed: Gaussian Naive Bayes with RandomOverSampler\n",
      "  > Completed: Logistic Regression with RandomUnderSampler\n",
      "  > Completed: k-NN with RandomUnderSampler\n",
      "  > Completed: SVC with RandomUnderSampler\n",
      "  > Completed: Gaussian Naive Bayes with RandomUnderSampler\n",
      "  > Completed: Logistic Regression with SMOTE\n",
      "  > Completed: k-NN with SMOTE\n",
      "  > Completed: SVC with SMOTE\n",
      "  > Completed: Gaussian Naive Bayes with SMOTE\n",
      "  > Completed: Logistic Regression with ADASYN\n",
      "  > Completed: k-NN with ADASYN\n",
      "  > Completed: SVC with ADASYN\n",
      "  > Completed: Gaussian Naive Bayes with ADASYN\n",
      "  > Completed: Logistic Regression with TomekLinks\n",
      "  > Completed: k-NN with TomekLinks\n",
      "  > Completed: SVC with TomekLinks\n",
      "  > Completed: Gaussian Naive Bayes with TomekLinks\n",
      "                   model             sampler  mean_recall\n",
      "18                   SVC              ADASYN     0.838902\n",
      "4    Logistic Regression   RandomOverSampler     0.798108\n",
      "11  Gaussian Naive Bayes  RandomUnderSampler     0.796059\n",
      "7   Gaussian Naive Bayes   RandomOverSampler     0.794022\n",
      "8    Logistic Regression  RandomUnderSampler     0.789939\n",
      "6                    SVC   RandomOverSampler     0.786550\n",
      "14                   SVC               SMOTE     0.784517\n",
      "9                   k-NN  RandomUnderSampler     0.772957\n",
      "17                  k-NN              ADASYN     0.765481\n",
      "23  Gaussian Naive Bayes          TomekLinks     0.765466\n",
      "10                   SVC  RandomUnderSampler     0.764825\n",
      "19  Gaussian Naive Bayes              ADASYN     0.753909\n",
      "3   Gaussian Naive Bayes                None     0.749145\n",
      "5                   k-NN   RandomOverSampler     0.730142\n",
      "13                  k-NN               SMOTE     0.728775\n",
      "15  Gaussian Naive Bayes               SMOTE     0.728079\n",
      "16   Logistic Regression              ADASYN     0.719248\n",
      "12   Logistic Regression               SMOTE     0.709726\n",
      "20   Logistic Regression          TomekLinks     0.616605\n",
      "21                  k-NN          TomekLinks     0.600966\n",
      "0    Logistic Regression                None     0.539126\n",
      "1                   k-NN                None     0.521424\n",
      "2                    SVC                None     0.000000\n",
      "22                   SVC          TomekLinks     0.000000\n"
     ]
    }
   ],
   "source": [
    "scaler = StandardScaler()\n",
    "X_tenure['tenure'] = scaler.fit_transform(X_tenure[['tenure']])\n",
    "X_train, X_test, y_train, y_test = train_test_split(X_tenure, y, test_size=0.2, random_state=7)\n",
    "\n",
    "baseline_results_df = run_baseline_experiment(X_train, y_train, models_sensitive, samplers)\n",
    "\n",
    "print(baseline_results_df)   "
   ]
  },
  {
   "cell_type": "markdown",
   "id": "a185b792-7163-486c-ad96-34ef26f01574",
   "metadata": {},
   "source": [
    "We will check the impact of PCA"
   ]
  },
  {
   "cell_type": "code",
   "execution_count": 44,
   "id": "e49972db-7630-4dfd-a7d5-1cba6c2c155f",
   "metadata": {},
   "outputs": [],
   "source": [
    "X_pca = X.copy()\n",
    "scaler = StandardScaler()\n",
    "X_pca['TotalCharges'] = scaler.fit_transform(X_pca[['TotalCharges']])\n",
    "\n",
    "pca = PCA(n_components=0.95, random_state=7)\n",
    "X_pca = pca.fit_transform(X_pca)"
   ]
  },
  {
   "cell_type": "code",
   "execution_count": 45,
   "id": "33971514-04d8-40f4-bc2d-d09b445d70fe",
   "metadata": {},
   "outputs": [
    {
     "name": "stdout",
     "output_type": "stream",
     "text": [
      "  > Completed: Decision Tree with None\n",
      "  > Completed: Random Forest with None\n",
      "  > Completed: AdaBoost with None\n",
      "  > Completed: Gradient Boosting with None\n",
      "  > Completed: XGBoost with None\n",
      "  > Completed: LightGBM with None\n",
      "  > Completed: Decision Tree with RandomOverSampler\n",
      "  > Completed: Random Forest with RandomOverSampler\n",
      "  > Completed: AdaBoost with RandomOverSampler\n",
      "  > Completed: Gradient Boosting with RandomOverSampler\n",
      "  > Completed: XGBoost with RandomOverSampler\n",
      "  > Completed: LightGBM with RandomOverSampler\n",
      "  > Completed: Decision Tree with RandomUnderSampler\n",
      "  > Completed: Random Forest with RandomUnderSampler\n",
      "  > Completed: AdaBoost with RandomUnderSampler\n",
      "  > Completed: Gradient Boosting with RandomUnderSampler\n",
      "  > Completed: XGBoost with RandomUnderSampler\n",
      "  > Completed: LightGBM with RandomUnderSampler\n",
      "  > Completed: Decision Tree with SMOTE\n",
      "  > Completed: Random Forest with SMOTE\n",
      "  > Completed: AdaBoost with SMOTE\n",
      "  > Completed: Gradient Boosting with SMOTE\n",
      "  > Completed: XGBoost with SMOTE\n",
      "  > Completed: LightGBM with SMOTE\n",
      "  > Completed: Decision Tree with ADASYN\n",
      "  > Completed: Random Forest with ADASYN\n",
      "  > Completed: AdaBoost with ADASYN\n",
      "  > Completed: Gradient Boosting with ADASYN\n",
      "  > Completed: XGBoost with ADASYN\n",
      "  > Completed: LightGBM with ADASYN\n",
      "  > Completed: Decision Tree with TomekLinks\n",
      "  > Completed: Random Forest with TomekLinks\n",
      "  > Completed: AdaBoost with TomekLinks\n",
      "  > Completed: Gradient Boosting with TomekLinks\n",
      "  > Completed: XGBoost with TomekLinks\n",
      "  > Completed: LightGBM with TomekLinks\n",
      "                model             sampler  mean_recall\n",
      "26           AdaBoost              ADASYN     0.827333\n",
      "8            AdaBoost   RandomOverSampler     0.804222\n",
      "15  Gradient Boosting  RandomUnderSampler     0.787903\n",
      "27  Gradient Boosting              ADASYN     0.783834\n",
      "14           AdaBoost  RandomUnderSampler     0.782475\n",
      "9   Gradient Boosting   RandomOverSampler     0.764788\n",
      "20           AdaBoost               SMOTE     0.746446\n",
      "21  Gradient Boosting               SMOTE     0.745755\n",
      "16            XGBoost  RandomUnderSampler     0.737601\n",
      "17           LightGBM  RandomUnderSampler     0.735567\n",
      "13      Random Forest  RandomUnderSampler     0.725362\n",
      "29           LightGBM              ADASYN     0.685947\n",
      "12      Decision Tree  RandomUnderSampler     0.665548\n",
      "23           LightGBM               SMOTE     0.645158\n",
      "11           LightGBM   RandomOverSampler     0.627473\n",
      "28            XGBoost              ADASYN     0.613882\n",
      "22            XGBoost               SMOTE     0.602333\n",
      "33  Gradient Boosting          TomekLinks     0.586024\n",
      "25      Random Forest              ADASYN     0.575137\n",
      "19      Random Forest               SMOTE     0.565626\n",
      "30      Decision Tree          TomekLinks     0.564947\n",
      "34            XGBoost          TomekLinks     0.558824\n",
      "35           LightGBM          TomekLinks     0.555436\n",
      "10            XGBoost   RandomOverSampler     0.552715\n",
      "31      Random Forest          TomekLinks     0.539115\n",
      "32           AdaBoost          TomekLinks     0.530295\n",
      "24      Decision Tree              ADASYN     0.522778\n",
      "18      Decision Tree               SMOTE     0.513935\n",
      "7       Random Forest   RandomOverSampler     0.502395\n",
      "3   Gradient Boosting                None     0.492905\n",
      "5            LightGBM                None     0.481336\n",
      "4             XGBoost                None     0.472500\n",
      "0       Decision Tree                None     0.471118\n",
      "2            AdaBoost                None     0.465002\n",
      "6       Decision Tree   RandomOverSampler     0.458874\n",
      "1       Random Forest                None     0.438496\n"
     ]
    }
   ],
   "source": [
    "X_train, X_test, y_train, y_test = train_test_split(X_pca, y, test_size=0.2, random_state=7)\n",
    "\n",
    "baseline_results_df = run_baseline_experiment(X_train, y_train, models, samplers)\n",
    "\n",
    "print(baseline_results_df) "
   ]
  },
  {
   "cell_type": "code",
   "execution_count": 46,
   "id": "33f2ab98-ac51-4a97-a740-a00b56c53ebd",
   "metadata": {},
   "outputs": [
    {
     "name": "stdout",
     "output_type": "stream",
     "text": [
      "\n",
      "--- Tuning: AdaBoost with ADASYN ---\n",
      "Best recall score for this combination: 0.8858\n",
      "OrderedDict([('model__learning_rate', 0.05072961263611234), ('model__n_estimators', 292)])\n",
      "\n",
      "--- Tuning: AdaBoost with RandomOverSampler ---\n",
      "Best recall score for this combination: 0.8341\n",
      "OrderedDict([('model__learning_rate', 0.05072961263611234), ('model__n_estimators', 292)])\n",
      "\n",
      "--- Tuning: Gradient Boosting with RandomUnderSampler ---\n",
      "Best recall score for this combination: 0.7879\n",
      "OrderedDict([('model__learning_rate', 0.028759624616774778), ('model__n_estimators', 315)])\n",
      "\n",
      "--- Tuning: Gradient Boosting with ADASYN ---\n",
      "Best recall score for this combination: 0.7750\n",
      "OrderedDict([('model__learning_rate', 0.028759624616774778), ('model__n_estimators', 315)])\n",
      "\n",
      "--- Tuning: AdaBoost with RandomUnderSampler ---\n",
      "Best recall score for this combination: 0.8300\n",
      "OrderedDict([('model__learning_rate', 0.05072961263611234), ('model__n_estimators', 292)])\n"
     ]
    }
   ],
   "source": [
    "# hyperparameter tuning\n",
    "tune_top_combinations(\n",
    "        baseline_results=baseline_results_df,\n",
    "        X_train=X_train,\n",
    "        y_train=y_train,\n",
    "        models=models,\n",
    "        samplers=samplers,\n",
    "        search_spaces=search_spaces,\n",
    "        top_n=5,\n",
    "        n_iter=5\n",
    "    )"
   ]
  },
  {
   "cell_type": "code",
   "execution_count": 47,
   "id": "215831ce-c542-4e5f-ab09-966bc1b42f9d",
   "metadata": {},
   "outputs": [
    {
     "name": "stdout",
     "output_type": "stream",
     "text": [
      "  > Completed: Logistic Regression with None\n",
      "  > Completed: k-NN with None\n",
      "  > Completed: SVC with None\n",
      "  > Completed: Gaussian Naive Bayes with None\n",
      "  > Completed: Logistic Regression with RandomOverSampler\n",
      "  > Completed: k-NN with RandomOverSampler\n",
      "  > Completed: SVC with RandomOverSampler\n",
      "  > Completed: Gaussian Naive Bayes with RandomOverSampler\n",
      "  > Completed: Logistic Regression with RandomUnderSampler\n",
      "  > Completed: k-NN with RandomUnderSampler\n",
      "  > Completed: SVC with RandomUnderSampler\n",
      "  > Completed: Gaussian Naive Bayes with RandomUnderSampler\n",
      "  > Completed: Logistic Regression with SMOTE\n",
      "  > Completed: k-NN with SMOTE\n",
      "  > Completed: SVC with SMOTE\n",
      "  > Completed: Gaussian Naive Bayes with SMOTE\n",
      "  > Completed: Logistic Regression with ADASYN\n",
      "  > Completed: k-NN with ADASYN\n",
      "  > Completed: SVC with ADASYN\n",
      "  > Completed: Gaussian Naive Bayes with ADASYN\n",
      "  > Completed: Logistic Regression with TomekLinks\n",
      "  > Completed: k-NN with TomekLinks\n",
      "  > Completed: SVC with TomekLinks\n",
      "  > Completed: Gaussian Naive Bayes with TomekLinks\n",
      "                   model             sampler  mean_recall\n",
      "16   Logistic Regression              ADASYN     0.813050\n",
      "19  Gaussian Naive Bayes              ADASYN     0.795372\n",
      "10                   SVC  RandomUnderSampler     0.794022\n",
      "8    Logistic Regression  RandomUnderSampler     0.784504\n",
      "9                   k-NN  RandomUnderSampler     0.782492\n",
      "4    Logistic Regression   RandomOverSampler     0.780428\n",
      "6                    SVC   RandomOverSampler     0.771589\n",
      "12   Logistic Regression               SMOTE     0.768863\n",
      "7   Gaussian Naive Bayes   RandomOverSampler     0.766828\n",
      "18                   SVC              ADASYN     0.766149\n",
      "11  Gaussian Naive Bayes  RandomUnderSampler     0.764788\n",
      "17                  k-NN              ADASYN     0.753243\n",
      "15  Gaussian Naive Bayes               SMOTE     0.749158\n",
      "14                   SVC               SMOTE     0.736246\n",
      "5                   k-NN   RandomOverSampler     0.724688\n",
      "13                  k-NN               SMOTE     0.711099\n",
      "23  Gaussian Naive Bayes          TomekLinks     0.651276\n",
      "3   Gaussian Naive Bayes                None     0.601641\n",
      "21                  k-NN          TomekLinks     0.598948\n",
      "20   Logistic Regression          TomekLinks     0.586014\n",
      "22                   SVC          TomekLinks     0.575143\n",
      "1                   k-NN                None     0.518714\n",
      "0    Logistic Regression                None     0.515329\n",
      "2                    SVC                None     0.488814\n"
     ]
    }
   ],
   "source": [
    "X_train, X_test, y_train, y_test = train_test_split(X_pca, y, test_size=0.2, random_state=7)\n",
    "\n",
    "baseline_results_df = run_baseline_experiment(X_train, y_train, models_sensitive, samplers)\n",
    "\n",
    "print(baseline_results_df)   "
   ]
  },
  {
   "cell_type": "code",
   "execution_count": 48,
   "id": "ac807044-44d3-45e1-8eb0-e4dc853a3578",
   "metadata": {},
   "outputs": [
    {
     "name": "stdout",
     "output_type": "stream",
     "text": [
      "\n",
      "--- Tuning: Logistic Regression with ADASYN ---\n",
      "Best recall score for this combination: 0.8192\n",
      "OrderedDict([('model__C', 0.7524980524543861), ('model__penalty', 'l1'), ('model__solver', 'liblinear')])\n",
      "\n",
      "--- Tuning: Gaussian Naive Bayes with ADASYN ---\n",
      "Best recall score for this combination: 0.7947\n",
      "OrderedDict([('model__var_smoothing', 9.49453380001038e-09)])\n",
      "\n",
      "--- Tuning: SVC with RandomUnderSampler ---\n",
      "Best recall score for this combination: 0.9925\n",
      "OrderedDict([('model__C', 0.5796340174023742), ('model__gamma', 0.004126777766409736), ('model__kernel', 'poly')])\n",
      "\n",
      "--- Tuning: Logistic Regression with RandomUnderSampler ---\n",
      "Best recall score for this combination: 0.7845\n",
      "OrderedDict([('model__C', 0.7524980524543861), ('model__penalty', 'l1'), ('model__solver', 'liblinear')])\n",
      "\n",
      "--- Tuning: k-NN with RandomUnderSampler ---\n",
      "Best recall score for this combination: 0.8015\n",
      "OrderedDict([('model__n_neighbors', 30), ('model__p', 2), ('model__weights', 'distance')])\n"
     ]
    }
   ],
   "source": [
    "# hyperparameter tuning\n",
    "tune_top_combinations(\n",
    "        baseline_results=baseline_results_df,\n",
    "        X_train=X_train,\n",
    "        y_train=y_train,\n",
    "        models=models_sensitive,\n",
    "        samplers=samplers,\n",
    "        search_spaces=search_spaces_sensitive,\n",
    "        top_n=5,\n",
    "        n_iter=5\n",
    "    )"
   ]
  },
  {
   "cell_type": "markdown",
   "id": "041a2f6f-af17-4ceb-bb60-f6b3de71128a",
   "metadata": {},
   "source": [
    "### Ultimately, we choose the model that maximized recall. It has achieved:"
   ]
  },
  {
   "cell_type": "code",
   "execution_count": null,
   "id": "71b66908-8fe2-4815-a2e7-04929b4892be",
   "metadata": {},
   "outputs": [],
   "source": [
    "X_train, X_test, y_train, y_test = train_test_split(X_transformed, y, test_size=0.2, random_state=7)\n",
    "best_sampler_instance = RandomUnderSampler(random_state=7)\n",
    "best_hyperparameters = {\n",
    "    'C': 0.5796340174023742,\n",
    "    'gamma': 0.004126777766409736,\n",
    "    'kernel': 'poly',\n",
    "    'probability': True,\n",
    "    'random_state': 7\n",
    "}\n",
    "best_model = SVC(**best_hyperparameters)\n",
    "best_pipeline = ImbPipeline(steps=[\n",
    "    ('sampler', best_sampler_instance),\n",
    "    ('model', best_model)\n",
    "])\n",
    "best_pipeline.fit(X_train, y_train)\n",
    "\n",
    "y_pred = best_pipeline.predict(X_test)\n",
    "y_pred_proba = best_pipeline.predict_proba(X_test)[:, 1]\n",
    "\n",
    "\n",
    "cm = confusion_matrix(y_test, y_pred)\n",
    "plt.figure(figsize=(8, 6))\n",
    "sns.heatmap(cm, annot=True, fmt='d', cmap='Blues', \n",
    "            xticklabels=['Predicted No Churn', 'Predicted Churn'], \n",
    "            yticklabels=['Actual No Churn', 'Actual Churn'])\n",
    "plt.title('Final Confusion Matrix on Test Set')\n",
    "plt.ylabel('Actual Class')\n",
    "plt.xlabel('Predicted Class')\n",
    "plt.show()\n",
    "\n",
    "print(classification_report(y_test, y_pred, target_names=['No Churn', 'Churn']))\n",
    "\n",
    "accuracy = accuracy_score(y_test, y_pred)\n",
    "precision = precision_score(y_test, y_pred)\n",
    "recall = recall_score(y_test, y_pred)\n",
    "f1 = f1_score(y_test, y_pred)\n",
    "roc_auc = roc_auc_score(y_test, y_pred_proba)\n",
    "\n",
    "print(f\"Accuracy:  {accuracy:.4f}\")\n",
    "print(f\"Precision: {precision:.4f}\")\n",
    "print(f\"Recall:    {recall:.4f}\")\n",
    "print(f\"F1-Score:  {f1:.4f}\")\n",
    "print(f\"ROC AUC:   {roc_auc:.4f}\")\n"
   ]
  },
  {
   "cell_type": "markdown",
   "id": "5adada42-9d4b-4259-82ba-f921af1bc696",
   "metadata": {},
   "source": [
    "The model we have chosen does not have stunning other metrics However, the most important thing in this problem is to identify the people who are likely to leave - it is to them that we will target promotional activities."
   ]
  },
  {
   "cell_type": "markdown",
   "id": "fe040a36-74a1-4504-bf7e-7676db174871",
   "metadata": {},
   "source": [
    "## MLFlow section"
   ]
  },
  {
   "cell_type": "code",
   "execution_count": 31,
   "id": "c448339e-c880-495f-ac40-3c469f38ad43",
   "metadata": {},
   "outputs": [],
   "source": [
    "MLFLOW_TRACKING_URI = os.environ.get(\"MLFLOW_TRACKING_URI\", \"file:./mlruns\")\n",
    "mlflow.set_tracking_uri(MLFLOW_TRACKING_URI)\n",
    "EXPERIMENT_NAME = \"churn_notebook_experiments\"\n",
    "mlflow.set_experiment(EXPERIMENT_NAME)\n",
    "\n",
    "def get_git_commit_hash():\n",
    "    try:\n",
    "        return subprocess.check_output([\"git\", \"rev-parse\", \"HEAD\"]).decode().strip()\n",
    "    except Exception:\n",
    "        return None\n",
    "\n",
    "GIT_COMMIT = get_git_commit_hash()"
   ]
  },
  {
   "cell_type": "code",
   "execution_count": 32,
   "id": "ee864d09-6c17-4a80-ae0e-911a440aa566",
   "metadata": {},
   "outputs": [],
   "source": [
    "def safe_log_model(pipeline, artifact_path=\"model\", input_example=None, registered_model_name: str = None):\n",
    "    \"\"\"\n",
    "    Log a sklearn/imblearn pipeline to MLflow in a robust way:\n",
    "      - If MLflow supports `name=` (newer versions), we will call log_model with name=...\n",
    "      - Otherwise we call with artifact_path=...\n",
    "      - If input_example is provided, infer and pass signature + input_example to MLflow (removes warnings).\n",
    "      - On any failure, fall back to joblib dump + mlflow.log_artifact.\n",
    "\n",
    "    Parameters\n",
    "    ----------\n",
    "    pipeline: fitted or unfitted pipeline (we will attempt to log it)\n",
    "    artifact_path: str, used as fallback artifact path or name\n",
    "    input_example: optional pd.DataFrame or np.ndarray (a few rows representative of model input)\n",
    "    registered_model_name: optional str, if provided MLflow will try to register the model under this name\n",
    "    \"\"\"\n",
    "    # Prepare signature if input_example given\n",
    "    signature = None\n",
    "    if input_example is not None:\n",
    "        try:\n",
    "            # We need a sample of model outputs to infer signature; if pipeline not yet fitted, try to fit externally first.\n",
    "            # Use a copy to avoid side-effects.\n",
    "            X_sample = input_example\n",
    "            try:\n",
    "                y_sample = pipeline.predict(X_sample)\n",
    "            except Exception:\n",
    "                # If predict fails (unfitted pipeline), try to temporarily fit on input_example if shape allows (risky).\n",
    "                # Simpler: don't infer signature in this case.\n",
    "                y_sample = None\n",
    "\n",
    "            if y_sample is not None:\n",
    "                signature = infer_signature(X_sample, y_sample)\n",
    "        except Exception:\n",
    "            signature = None\n",
    "\n",
    "    # Try calling mlflow.sklearn.log_model preferring new 'name' argument if available\n",
    "    try:\n",
    "        log_fn = mlflow.sklearn.log_model\n",
    "        # inspect to see if 'name' is a valid parameter for this mlflow version\n",
    "        params = inspect.signature(log_fn).parameters\n",
    "        kwargs = {}\n",
    "        if 'name' in params:\n",
    "            kwargs['name'] = artifact_path\n",
    "        else:\n",
    "            # older versions: use artifact_path parameter name\n",
    "            kwargs['artifact_path'] = artifact_path\n",
    "\n",
    "        if signature is not None:\n",
    "            kwargs['signature'] = signature\n",
    "        if input_example is not None:\n",
    "            kwargs['input_example'] = input_example\n",
    "\n",
    "        # allow registering in one shot if MLflow supports registered_model_name param\n",
    "        if 'registered_model_name' in params and registered_model_name is not None:\n",
    "            kwargs['registered_model_name'] = registered_model_name\n",
    "\n",
    "        mlflow.sklearn.log_model(pipeline, **kwargs)\n",
    "        return {\"logged_with\": \"mlflow.sklearn.log_model\", \"params\": kwargs}\n",
    "    except Exception as e:\n",
    "        # Fallback: save with joblib and log artifact\n",
    "        try:\n",
    "            fname = f\"{artifact_path.replace('/', '_')}.joblib\"\n",
    "            joblib.dump(pipeline, fname)\n",
    "            mlflow.log_artifact(fname, artifact_path=artifact_path)\n",
    "            os.remove(fname)\n",
    "            return {\"logged_with\": \"joblib.dump + mlflow.log_artifact\", \"artifact_path\": f\"{artifact_path}/{fname}\", \"error\": str(e)}\n",
    "        except Exception as e2:\n",
    "            return {\"logged_with\": \"failed\", \"error\": str(e), \"fallback_error\": str(e2)}\n",
    "\n",
    "def log_cv_results_df(df: pd.DataFrame, name=\"cv_results.csv\"):\n",
    "    df.to_csv(name, index=False)\n",
    "    mlflow.log_artifact(name)\n",
    "    os.remove(name)\n",
    "\n",
    "def log_confusion_matrix(cm, filename=\"confusion_matrix.png\", labels=None, figsize=(6,5)):\n",
    "    fig, ax = plt.subplots(figsize=figsize)\n",
    "    sns.heatmap(cm, annot=True, fmt='d', ax=ax, cmap=\"Blues\")\n",
    "    if labels is not None:\n",
    "        ax.set_xticklabels(labels)\n",
    "        ax.set_yticklabels(labels)\n",
    "    ax.set_xlabel(\"Predicted\")\n",
    "    ax.set_ylabel(\"Actual\")\n",
    "    fig.savefig(filename, bbox_inches='tight')\n",
    "    plt.close(fig)\n",
    "    mlflow.log_artifact(filename)\n",
    "    os.remove(filename)\n",
    "\n",
    "def safe_log_params(d: dict):\n",
    "    for k, v in d.items():\n",
    "        try:\n",
    "            mlflow.log_param(k, v)\n",
    "        except Exception:\n",
    "            mlflow.log_param(k, str(v))\n"
   ]
  },
  {
   "cell_type": "code",
   "execution_count": 33,
   "id": "93b9e3b5-3c3b-4332-bb7d-1665d6840dd8",
   "metadata": {},
   "outputs": [],
   "source": [
    "def run_baseline_experiment_mlflow(X_train: pd.DataFrame, y_train: pd.Series, models: dict, samplers: dict) -> pd.DataFrame:\n",
    "    \"\"\"Runs CV for all model-sampler combos and logs each combo as a separate MLflow run.\"\"\"\n",
    "    results_list = []\n",
    "    scoring = {'recall': make_scorer(recall_score)}\n",
    "\n",
    "    for sampler_name, sampler in samplers.items():\n",
    "        for model_name, model in models.items():\n",
    "            if sampler is None:\n",
    "                pipeline = ImbPipeline(steps=[('model', model)])\n",
    "            else:\n",
    "                pipeline = ImbPipeline(steps=[('sampler', sampler), ('model', model)])\n",
    "\n",
    "            run_name = f\"{model_name}__{sampler_name}__baseline\"\n",
    "            with mlflow.start_run(run_name=run_name):\n",
    "                if GIT_COMMIT:\n",
    "                    mlflow.set_tag(\"git_commit\", GIT_COMMIT)\n",
    "                mlflow.set_tag(\"model\", model_name)\n",
    "                mlflow.set_tag(\"sampler\", sampler_name)\n",
    "\n",
    "                mlflow.log_param(\"model_class\", type(model).__name__)\n",
    "                mlflow.log_param(\"sampler_class\", type(sampler).__name__ if sampler is not None else \"None\")\n",
    "\n",
    "                kfold = StratifiedKFold(n_splits=4, random_state=7, shuffle=True)\n",
    "                cv_results = cross_validate(pipeline, X_train, y_train, cv=kfold, scoring=scoring, return_train_score=False, n_jobs=-1)\n",
    "\n",
    "                mean_recall = float(cv_results['test_recall'].mean())\n",
    "                std_recall = float(cv_results['test_recall'].std())\n",
    "\n",
    "                mlflow.log_metric(\"mean_recall\", mean_recall)\n",
    "                mlflow.log_metric(\"std_recall\", std_recall)\n",
    "\n",
    "                try:\n",
    "                    df_cv = pd.DataFrame({\"test_recall\": cv_results['test_recall']})\n",
    "                    log_cv_results_df(df_cv, name=f\"cv_{model_name}_{sampler_name}.csv\")\n",
    "                except Exception:\n",
    "                    pass\n",
    "\n",
    "                results_list.append({\n",
    "                    'model': model_name,\n",
    "                    'sampler': sampler_name,\n",
    "                    'mean_recall': mean_recall\n",
    "                })\n",
    "\n",
    "                print(f\"  > Completed: {model_name} with {sampler_name} (mean_recall={mean_recall:.4f})\")\n",
    "\n",
    "    results_df = pd.DataFrame(results_list)\n",
    "    return results_df.sort_values(by='mean_recall', ascending=False)\n"
   ]
  },
  {
   "cell_type": "code",
   "execution_count": 34,
   "id": "f6e09f43-3593-44e1-801b-715806babe05",
   "metadata": {},
   "outputs": [],
   "source": [
    "def tune_top_combinations_mlflow(baseline_results: pd.DataFrame,\n",
    "                                 X_train: pd.DataFrame,\n",
    "                                 y_train: pd.Series,\n",
    "                                 models: dict,\n",
    "                                 samplers: dict,\n",
    "                                 search_spaces: dict,\n",
    "                                 top_n: int = 2,\n",
    "                                 n_iter: int = 10):\n",
    "    \"\"\"\n",
    "    Returns dict opts: key = (model_name, sampler_name, sub_idx) -> BayesSearchCV object.\n",
    "    Supports search_spaces as dict or as list(dict, ...).\n",
    "    Logs minimally to MLflow (run per subspace).\n",
    "    \"\"\"\n",
    "    best_combinations = baseline_results.head(top_n)\n",
    "    opts = {}\n",
    "\n",
    "    for _, row in best_combinations.iterrows():\n",
    "        model_name = row['model']\n",
    "        sampler_name = row['sampler']\n",
    "        print(f\"\\n--- Tuning: {model_name} with {sampler_name} ---\")\n",
    "\n",
    "        model = models[model_name]\n",
    "        sampler = samplers[sampler_name]\n",
    "        if sampler is None:\n",
    "            pipeline = ImbPipeline(steps=[('model', model)])\n",
    "        else:\n",
    "            pipeline = ImbPipeline(steps=[('sampler', sampler), ('model', model)])\n",
    "\n",
    "        if model_name not in search_spaces:\n",
    "            print(f\"No search space defined for {model_name}. Skipping.\")\n",
    "            continue\n",
    "\n",
    "        spaces = search_spaces[model_name]\n",
    "        if isinstance(spaces, dict):\n",
    "            spaces_list = [spaces]\n",
    "        elif isinstance(spaces, list):\n",
    "            spaces_list = spaces\n",
    "        else:\n",
    "            print(f\"Unsupported search space type for {model_name}: {type(spaces)}. Skipping.\")\n",
    "            continue\n",
    "\n",
    "        for idx, subspace in enumerate(spaces_list):\n",
    "            run_name = f\"{model_name}__{sampler_name}__bayes_sub{idx}\"\n",
    "            with mlflow.start_run(run_name=run_name):\n",
    "                if GIT_COMMIT:\n",
    "                    mlflow.set_tag(\"git_commit\", GIT_COMMIT)\n",
    "                mlflow.set_tag(\"model\", model_name)\n",
    "                mlflow.set_tag(\"sampler\", sampler_name)\n",
    "                mlflow.log_param(\"n_iter\", n_iter)\n",
    "                try:\n",
    "                    mlflow.log_param(\"search_space\", json.dumps({k: str(v) for k,v in subspace.items()}))\n",
    "                except Exception:\n",
    "                    mlflow.log_param(\"search_space\", str(subspace))\n",
    "\n",
    "                opt = BayesSearchCV(\n",
    "                    estimator=pipeline,\n",
    "                    search_spaces=subspace,\n",
    "                    n_iter=n_iter,\n",
    "                    scoring='recall',\n",
    "                    cv=StratifiedKFold(n_splits=3, shuffle=True, random_state=7),\n",
    "                    random_state=7,\n",
    "                    n_jobs=-1,\n",
    "                    verbose=0\n",
    "                )\n",
    "\n",
    "                t0 = time.time()\n",
    "                opt.fit(X_train, y_train)\n",
    "                elapsed = time.time() - t0\n",
    "\n",
    "                mlflow.log_metric(\"best_cv_recall\", float(opt.best_score_))\n",
    "                mlflow.log_metric(\"tuning_seconds\", elapsed)\n",
    "\n",
    "                # log best params\n",
    "                safe_best_params = {k: (v if isinstance(v, (str, int, float, bool)) else str(v)) for k, v in opt.best_params_.items()}\n",
    "                safe_log_params(safe_best_params)\n",
    "\n",
    "                # save cv_results_ if available\n",
    "                try:\n",
    "                    df_cv = pd.DataFrame(opt.cv_results_)\n",
    "                    log_cv_results_df(df_cv, name=f\"bayes_cv_{model_name}_{sampler_name}_sub{idx}.csv\")\n",
    "                except Exception:\n",
    "                    pass\n",
    "\n",
    "                # save best estimator\n",
    "                try:\n",
    "                    safe_log_model(opt.best_estimator_, artifact_path=\"best_estimator\")\n",
    "                except Exception:\n",
    "                    pass\n",
    "\n",
    "                print(f\"Best recall score for this combination (sub{idx}): {opt.best_score_:.4f}\")\n",
    "                print(opt.best_params_)\n",
    "\n",
    "                # store opt\n",
    "                opts[(model_name, sampler_name, idx)] = opt\n",
    "\n",
    "    return opts\n"
   ]
  },
  {
   "cell_type": "code",
   "execution_count": 35,
   "id": "7ebf16b8-1dac-4b86-bc1b-dd2152b8ab5b",
   "metadata": {},
   "outputs": [],
   "source": [
    "def run_and_log_final_model(pipeline, X_train, y_train, X_test, y_test,\n",
    "                            run_name=\"final_model_run\", artifact_prefix=\"final_model\",\n",
    "                            register_model_name: str = None):\n",
    "    \"\"\"\n",
    "    Trains the pipeline, logs metrics + artifacts to MLflow, and saves the model (safe_log_model).\n",
    "    If register_model_name is provided, attempts to register the model in the Model Registry.\n",
    "    Returns a dict with metrics and run_id.\n",
    "    \"\"\"\n",
    "    with mlflow.start_run(run_name=run_name) as run:\n",
    "        run_id = run.info.run_id\n",
    "        if GIT_COMMIT:\n",
    "            mlflow.set_tag(\"git_commit\", GIT_COMMIT)\n",
    "        mlflow.set_tag(\"stage\", \"final\")\n",
    "        mlflow.log_param(\"artifact_prefix\", artifact_prefix)\n",
    "\n",
    "        # fit\n",
    "        pipeline.fit(X_train, y_train)\n",
    "\n",
    "        # predict\n",
    "        y_pred = pipeline.predict(X_test)\n",
    "        y_pred_proba = None\n",
    "        if hasattr(pipeline, \"predict_proba\"):\n",
    "            try:\n",
    "                y_pred_proba = pipeline.predict_proba(X_test)[:, 1]\n",
    "            except Exception:\n",
    "                # some pipelines/models expose decision_function instead\n",
    "                pass\n",
    "        if y_pred_proba is None and hasattr(pipeline, \"decision_function\"):\n",
    "            try:\n",
    "                scores = pipeline.decision_function(X_test)\n",
    "                # try to scale to [0,1] via sigmoid-ish approach for roc_auc\n",
    "                y_pred_proba = (scores - scores.min()) / (scores.max() - scores.min() + 1e-8)\n",
    "            except Exception:\n",
    "                y_pred_proba = None\n",
    "\n",
    "        # metrics\n",
    "        metrics = {}\n",
    "        metrics[\"accuracy\"] = float(accuracy_score(y_test, y_pred))\n",
    "        metrics[\"precision\"] = float(precision_score(y_test, y_pred))\n",
    "        metrics[\"recall\"] = float(recall_score(y_test, y_pred))\n",
    "        metrics[\"f1\"] = float(f1_score(y_test, y_pred))\n",
    "        if y_pred_proba is not None:\n",
    "            metrics[\"roc_auc\"] = float(roc_auc_score(y_test, y_pred_proba))\n",
    "        else:\n",
    "            metrics[\"roc_auc\"] = None\n",
    "\n",
    "        # log metrics\n",
    "        for k, v in metrics.items():\n",
    "            if v is not None:\n",
    "                mlflow.log_metric(k, v)\n",
    "\n",
    "        # save metrics CSV\n",
    "        df_metrics = pd.DataFrame([metrics])\n",
    "        metrics_csv = f\"{artifact_prefix}_metrics.csv\"\n",
    "        df_metrics.to_csv(metrics_csv, index=False)\n",
    "        mlflow.log_artifact(metrics_csv)\n",
    "        os.remove(metrics_csv)\n",
    "\n",
    "        # confusion matrix artifact\n",
    "        cm = confusion_matrix(y_test, y_pred)\n",
    "        cm_fname = f\"{artifact_prefix}_confusion_matrix.png\"\n",
    "        log_confusion_matrix(cm, filename=cm_fname, labels=['No Churn', 'Churn'])\n",
    "        # note: log_confusion_matrix removes file after upload\n",
    "\n",
    "        # ROC curve artifact (if we have probabilities)\n",
    "        if y_pred_proba is not None:\n",
    "            fpr, tpr, _ = roc_curve(y_test, y_pred_proba)\n",
    "            fig, ax = plt.subplots(figsize=(6,5))\n",
    "            ax.plot(fpr, tpr, linewidth=2)\n",
    "            ax.plot([0,1], [0,1], linestyle=\"--\")\n",
    "            ax.set_title(\"ROC curve\")\n",
    "            ax.set_xlabel(\"FPR\")\n",
    "            ax.set_ylabel(\"TPR\")\n",
    "            roc_fname = f\"{artifact_prefix}_roc.png\"\n",
    "            fig.savefig(roc_fname, bbox_inches='tight')\n",
    "            plt.close(fig)\n",
    "            mlflow.log_artifact(roc_fname)\n",
    "            os.remove(roc_fname)\n",
    "\n",
    "            # precision-recall curve too\n",
    "            p, r, _ = precision_recall_curve(y_test, y_pred_proba)\n",
    "            fig2, ax2 = plt.subplots(figsize=(6,5))\n",
    "            ax2.plot(r, p, linewidth=2)\n",
    "            ax2.set_title(\"Precision-Recall curve\")\n",
    "            ax2.set_xlabel(\"Recall\")\n",
    "            ax2.set_ylabel(\"Precision\")\n",
    "            pr_fname = f\"{artifact_prefix}_pr.png\"\n",
    "            fig2.savefig(pr_fname, bbox_inches='tight')\n",
    "            plt.close(fig2)\n",
    "            mlflow.log_artifact(pr_fname)\n",
    "            os.remove(pr_fname)\n",
    "\n",
    "        # save model\n",
    "        saved_info = safe_log_model(pipeline, artifact_path=artifact_prefix)\n",
    "\n",
    "        # optionally register model\n",
    "        if register_model_name:\n",
    "            try:\n",
    "                model_uri = f\"runs:/{run_id}/{artifact_prefix}\"\n",
    "                result = mlflow.register_model(model_uri, register_model_name)\n",
    "                mlflow.set_tag(\"registered_model_name\", register_model_name)\n",
    "                mlflow.set_tag(\"registered_model_version\", result.version)\n",
    "            except Exception as e:\n",
    "                print(\"Model registration skipped/failed:\", e)\n",
    "\n",
    "        print(\"Logged run_id:\", run_id)\n",
    "        print(\"Metrics:\", metrics)\n",
    "        return {\"run_id\": run_id, \"metrics\": metrics, \"saved_info\": saved_info}\n"
   ]
  },
  {
   "cell_type": "code",
   "execution_count": 36,
   "id": "3d342f00-4b7a-4bfb-8632-c7c51751e82a",
   "metadata": {},
   "outputs": [],
   "source": [
    "# transformation and scaling for sensitive models\n",
    "X_transformed = X.copy()\n",
    "\n",
    "transformed_charges, _ = stats.boxcox(X_transformed['TotalCharges'])\n",
    "X_transformed['TotalCharges'] = transformed_charges\n",
    "\n",
    "\n",
    "scaler = StandardScaler()\n",
    "X_transformed['TotalCharges'] = scaler.fit_transform(X_transformed[['TotalCharges']])"
   ]
  },
  {
   "cell_type": "code",
   "execution_count": 37,
   "id": "d59954cc-ccaa-4e9d-9bf9-d4a9c48ca7c9",
   "metadata": {},
   "outputs": [],
   "source": [
    "models = {\n",
    "        \"Decision Tree\": DecisionTreeClassifier(random_state=7),\n",
    "        \"Random Forest\": RandomForestClassifier(random_state=7, n_jobs=-1),\n",
    "        \"AdaBoost\": AdaBoostClassifier(random_state=7),\n",
    "        \"Gradient Boosting\": GradientBoostingClassifier(random_state=7),\n",
    "        \"XGBoost\": XGBClassifier(random_state=7, eval_metric='logloss', n_jobs=-1),\n",
    "        \"LightGBM\": LGBMClassifier(random_state=7, n_jobs=-1, verbosity=-1)\n",
    "    }\n",
    "\n",
    "samplers = {\n",
    "        \"None\": None,\n",
    "        \"RandomOverSampler\": RandomOverSampler(random_state=7),\n",
    "        \"RandomUnderSampler\": RandomUnderSampler(random_state=7),\n",
    "        \"SMOTE\": SMOTE(random_state=7),\n",
    "        \"ADASYN\": ADASYN(random_state=7),\n",
    "        \"TomekLinks\": TomekLinks()\n",
    "    }\n",
    "\n",
    "search_spaces = {\n",
    "        \"Random Forest\": {\n",
    "            'model__n_estimators': Integer(100, 1000),\n",
    "            'model__max_depth': Integer(10, 50),\n",
    "            'model__min_samples_leaf': Integer(1, 10)\n",
    "        },\n",
    "        \"XGBoost\": {\n",
    "            'model__n_estimators': Integer(100, 1000),\n",
    "            'model__learning_rate': Real(0.01, 0.3, 'log-uniform'),\n",
    "            'model__max_depth': Integer(3, 10),\n",
    "        },\n",
    "        \"LightGBM\": {\n",
    "            'model__n_estimators': Integer(100, 1000),\n",
    "            'model__learning_rate': Real(0.01, 0.3, 'log-uniform'),\n",
    "            'model__num_leaves': Integer(20, 100),\n",
    "        },\n",
    "        \"Decision Tree\": {\"model__max_depth\": Integer(1, 50)},\n",
    "        \"AdaBoost\": {\"model__n_estimators\": Integer(50, 500), \"model__learning_rate\": Real(0.01, 1.0, 'log-uniform')},\n",
    "        \"Gradient Boosting\": {\"model__n_estimators\": Integer(100, 500), \"model__learning_rate\": Real(0.01, 0.2, 'log-uniform')}\n",
    "    }"
   ]
  },
  {
   "cell_type": "code",
   "execution_count": 38,
   "id": "451718bb-22ea-4887-8233-07c3ab8728a1",
   "metadata": {},
   "outputs": [],
   "source": [
    "models_sensitive = {\n",
    "    \"Logistic Regression\": LogisticRegression(random_state=7, max_iter=1000),\n",
    "    \"k-NN\": KNeighborsClassifier(n_jobs=-1),\n",
    "    \"SVC\": SVC(random_state=7, probability=True),\n",
    "    \"Gaussian Naive Bayes\": GaussianNB()\n",
    "}\n",
    "\n",
    "search_spaces_sensitive = {\n",
    "    \"Logistic Regression\": [{\n",
    "        'model__C': Real(1e-3, 1e+3, 'log-uniform'),\n",
    "        'model__penalty': Categorical(['l1', 'l2']),\n",
    "        'model__solver': Categorical(['liblinear', 'saga']) # Solvers that support all penalties\n",
    "    },\n",
    "    {\n",
    "            'model__penalty': Categorical(['elasticnet']),\n",
    "            'model__solver': Categorical(['saga']), # Only ‘saga’ supports elasticnet\n",
    "            'model__C': Real(1e-3, 1e+3, 'log-uniform'),\n",
    "            'model__l1_ratio': Real(0.0, 1.0, 'uniform') \n",
    "        }                       \n",
    "                           ],\n",
    "    \"k-NN\": {\n",
    "        'model__n_neighbors': Integer(3, 30),\n",
    "        'model__weights': Categorical(['uniform', 'distance']),\n",
    "        'model__p': Integer(1, 2) # 1 for Manhattan, 2 for Euclidean distance\n",
    "    },\n",
    "    \"SVC\": {\n",
    "        'model__C': Real(1e-2, 1e+3, 'log-uniform'),\n",
    "        'model__gamma': Real(1e-4, 1e-1, 'log-uniform'),\n",
    "        'model__kernel': Categorical(['rbf', 'poly'])\n",
    "    },\n",
    "    \"Gaussian Naive Bayes\": {\n",
    "        'model__var_smoothing': Real(1e-10, 1e-8, 'log-uniform')\n",
    "    }\n",
    "}\n"
   ]
  },
  {
   "cell_type": "code",
   "execution_count": 39,
   "id": "2d50fbd1-0e33-4309-91b0-90ce38bdd7d7",
   "metadata": {},
   "outputs": [
    {
     "name": "stdout",
     "output_type": "stream",
     "text": [
      "  > Completed: Decision Tree with None (mean_recall=0.5085)\n",
      "  > Completed: Random Forest with None (mean_recall=0.4636)\n",
      "  > Completed: AdaBoost with None (mean_recall=0.5241)\n",
      "  > Completed: Gradient Boosting with None (mean_recall=0.5194)\n",
      "  > Completed: XGBoost with None (mean_recall=0.5242)\n",
      "  > Completed: LightGBM with None (mean_recall=0.5425)\n",
      "  > Completed: Decision Tree with RandomOverSampler (mean_recall=0.4929)\n",
      "  > Completed: Random Forest with RandomOverSampler (mean_recall=0.5513)\n",
      "  > Completed: AdaBoost with RandomOverSampler (mean_recall=0.8029)\n",
      "  > Completed: Gradient Boosting with RandomOverSampler (mean_recall=0.7845)\n",
      "  > Completed: XGBoost with RandomOverSampler (mean_recall=0.6479)\n",
      "  > Completed: LightGBM with RandomOverSampler (mean_recall=0.7240)\n",
      "  > Completed: Decision Tree with RandomUnderSampler (mean_recall=0.6751)\n",
      "  > Completed: Random Forest with RandomUnderSampler (mean_recall=0.7553)\n",
      "  > Completed: AdaBoost with RandomUnderSampler (mean_recall=0.7981)\n",
      "  > Completed: Gradient Boosting with RandomUnderSampler (mean_recall=0.8002)\n",
      "  > Completed: XGBoost with RandomUnderSampler (mean_recall=0.7723)\n",
      "  > Completed: LightGBM with RandomUnderSampler (mean_recall=0.7764)\n",
      "  > Completed: Decision Tree with SMOTE (mean_recall=0.5581)\n",
      "  > Completed: Random Forest with SMOTE (mean_recall=0.5690)\n",
      "  > Completed: AdaBoost with SMOTE (mean_recall=0.7383)\n",
      "  > Completed: Gradient Boosting with SMOTE (mean_recall=0.6982)\n",
      "  > Completed: XGBoost with SMOTE (mean_recall=0.6051)\n",
      "  > Completed: LightGBM with SMOTE (mean_recall=0.6391)\n",
      "  > Completed: Decision Tree with ADASYN (mean_recall=0.5548)\n",
      "  > Completed: Random Forest with ADASYN (mean_recall=0.5711)\n",
      "  > Completed: AdaBoost with ADASYN (mean_recall=0.7423)\n",
      "  > Completed: Gradient Boosting with ADASYN (mean_recall=0.7022)\n",
      "  > Completed: XGBoost with ADASYN (mean_recall=0.6044)\n",
      "  > Completed: LightGBM with ADASYN (mean_recall=0.6309)\n",
      "  > Completed: Decision Tree with TomekLinks (mean_recall=0.5479)\n",
      "  > Completed: Random Forest with TomekLinks (mean_recall=0.5561)\n",
      "  > Completed: AdaBoost with TomekLinks (mean_recall=0.6132)\n",
      "  > Completed: Gradient Boosting with TomekLinks (mean_recall=0.6098)\n",
      "  > Completed: XGBoost with TomekLinks (mean_recall=0.5894)\n",
      "  > Completed: LightGBM with TomekLinks (mean_recall=0.6078)\n",
      "  > Completed: Logistic Regression with None (mean_recall=0.5201)\n",
      "  > Completed: k-NN with None (mean_recall=0.5180)\n",
      "  > Completed: SVC with None (mean_recall=0.4820)\n",
      "  > Completed: Gaussian Naive Bayes with None (mean_recall=0.7274)\n",
      "  > Completed: Logistic Regression with RandomOverSampler (mean_recall=0.7913)\n",
      "  > Completed: k-NN with RandomOverSampler (mean_recall=0.7219)\n",
      "  > Completed: SVC with RandomOverSampler (mean_recall=0.7743)\n",
      "  > Completed: Gaussian Naive Bayes with RandomOverSampler (mean_recall=0.7886)\n",
      "  > Completed: Logistic Regression with RandomUnderSampler (mean_recall=0.7886)\n",
      "  > Completed: k-NN with RandomUnderSampler (mean_recall=0.7791)\n",
      "  > Completed: SVC with RandomUnderSampler (mean_recall=0.8069)\n",
      "  > Completed: Gaussian Naive Bayes with RandomUnderSampler (mean_recall=0.7906)\n",
      "  > Completed: Logistic Regression with SMOTE (mean_recall=0.7668)\n",
      "  > Completed: k-NN with SMOTE (mean_recall=0.7260)\n",
      "  > Completed: SVC with SMOTE (mean_recall=0.7539)\n",
      "  > Completed: Gaussian Naive Bayes with SMOTE (mean_recall=0.7444)\n",
      "  > Completed: Logistic Regression with ADASYN (mean_recall=0.7947)\n",
      "  > Completed: k-NN with ADASYN (mean_recall=0.7593)\n",
      "  > Completed: SVC with ADASYN (mean_recall=0.8063)\n",
      "  > Completed: Gaussian Naive Bayes with ADASYN (mean_recall=0.7825)\n",
      "  > Completed: Logistic Regression with TomekLinks (mean_recall=0.6146)\n",
      "  > Completed: k-NN with TomekLinks (mean_recall=0.5976)\n",
      "  > Completed: SVC with TomekLinks (mean_recall=0.5887)\n",
      "  > Completed: Gaussian Naive Bayes with TomekLinks (mean_recall=0.7478)\n"
     ]
    }
   ],
   "source": [
    "X_train, X_test, y_train, y_test = train_test_split(X, y, test_size=0.2, random_state=7)\n",
    "X_train_trans, X_test_trans, y_train_trans, y_test_trans = train_test_split(X_transformed, y, test_size=0.2, random_state=7)\n",
    "\n",
    "baseline_results = run_baseline_experiment_mlflow(X_train, y_train, models, samplers)\n",
    "baseline_sensitive = run_baseline_experiment_mlflow(X_train_trans, y_train_trans, models_sensitive, samplers)"
   ]
  },
  {
   "cell_type": "code",
   "execution_count": 40,
   "id": "8493d3e9-eeb6-469b-b23a-e677a834c5c4",
   "metadata": {},
   "outputs": [
    {
     "name": "stdout",
     "output_type": "stream",
     "text": [
      "\n",
      "--- Tuning: AdaBoost with RandomOverSampler ---\n",
      "Best recall score for this combination (sub0): 0.8416\n",
      "OrderedDict([('model__learning_rate', 0.05072961263611234), ('model__n_estimators', 292)])\n",
      "\n",
      "--- Tuning: Gradient Boosting with RandomUnderSampler ---\n",
      "Best recall score for this combination (sub0): 0.7940\n",
      "OrderedDict([('model__learning_rate', 0.028759624616774778), ('model__n_estimators', 315)])\n",
      "\n",
      "--- Tuning: SVC with RandomUnderSampler ---\n",
      "Best recall score for this combination (sub0): 0.9823\n",
      "OrderedDict([('model__C', 0.5796340174023742), ('model__gamma', 0.004126777766409736), ('model__kernel', 'poly')])\n",
      "\n",
      "--- Tuning: SVC with ADASYN ---\n",
      "Best recall score for this combination (sub0): 0.9633\n",
      "OrderedDict([('model__C', 0.4830417342270155), ('model__gamma', 0.019558222632307193), ('model__kernel', 'poly')])\n"
     ]
    }
   ],
   "source": [
    "opts = tune_top_combinations_mlflow(baseline_results, X_train, y_train,\n",
    "                                 models, samplers, search_spaces,\n",
    "                                 top_n  = 2, n_iter  = 5)\n",
    "\n",
    "opts_sensitive = tune_top_combinations_mlflow(baseline_sensitive, X_train_trans, y_train_trans,\n",
    "                                              models_sensitive, samplers, search_spaces_sensitive, \n",
    "                                              top_n=2, n_iter=5)\n"
   ]
  },
  {
   "cell_type": "code",
   "execution_count": 41,
   "id": "822d89dc-9b77-4bc8-a83b-cb1e7a70ae08",
   "metadata": {},
   "outputs": [
    {
     "name": "stdout",
     "output_type": "stream",
     "text": [
      "Selected best_key: ('SVC', 'RandomUnderSampler', 0) cv_best_score: 0.9823198525846184\n",
      "Selected pipeline already fitted (skipping fit).\n"
     ]
    }
   ],
   "source": [
    "# 1) collect tuned objects\n",
    "combined = {}\n",
    "if 'opts' in globals() and isinstance(opts, dict):\n",
    "    combined.update(opts)\n",
    "if 'opts_sensitive' in globals() and isinstance(opts_sensitive, dict):\n",
    "    for k, v in opts_sensitive.items():\n",
    "        # avoid key collision by prefixing sensitive keys when needed\n",
    "        if k in combined:\n",
    "            combined[(\"sens\",) + k] = v\n",
    "        else:\n",
    "            combined[k] = v\n",
    "\n",
    "if not combined:\n",
    "    raise RuntimeError(\"No tuning results found in 'opts' or 'opts_sensitive'.\")\n",
    "\n",
    "# 2) pick best by CV recall (opt.best_score_)\n",
    "best_key = None\n",
    "best_score = -np.inf\n",
    "for k, opt in combined.items():\n",
    "    try:\n",
    "        s = float(opt.best_score_) if hasattr(opt, \"best_score_\") else np.nan\n",
    "    except Exception:\n",
    "        s = np.nan\n",
    "    if not np.isnan(s) and s > best_score:\n",
    "        best_score = s\n",
    "        best_key = k\n",
    "\n",
    "if best_key is None:\n",
    "    raise RuntimeError(\"No valid best_score_ found in tuning results.\")\n",
    "\n",
    "print(\"Selected best_key:\", best_key, \"cv_best_score:\", best_score)\n",
    "\n",
    "# 3) reconstruct pipeline and dataset label\n",
    "best_opt = combined[best_key]\n",
    "best_pipeline = best_opt.best_estimator_\n",
    "\n",
    "# detect whether sensitive (we used prefix ('sens', model, sampler, idx) when combining)\n",
    "if isinstance(best_key, tuple) and best_key and best_key[0] == \"sens\":\n",
    "    model_name = best_key[1]; sampler_name = best_key[2]; sub_idx = best_key[3]\n",
    "    dataset_label = \"sensitive_transformed\"\n",
    "else:\n",
    "    model_name, sampler_name, sub_idx = best_key\n",
    "    dataset_label = \"default\"\n",
    "\n",
    "# 4) get correct splits\n",
    "if dataset_label == \"sensitive_transformed\":\n",
    "    X_tr_final = globals().get(\"X_trains_trans\")\n",
    "    X_te_final = globals().get(\"X_tests_trans\")\n",
    "    y_tr_final = globals().get(\"y_trains_trans\")\n",
    "    y_te_final = globals().get(\"y_tests_trans\")\n",
    "else:\n",
    "    X_tr_final = globals().get(\"X_train\")\n",
    "    X_te_final = globals().get(\"X_test\")\n",
    "    y_tr_final = globals().get(\"y_train\")\n",
    "    y_te_final = globals().get(\"y_test\")\n",
    "\n",
    "if X_tr_final is None or X_te_final is None:\n",
    "    raise RuntimeError(f\"Required splits not found for dataset_label='{dataset_label}'.\")\n",
    "\n",
    "# 5) fit if needed (fit once only)\n",
    "from sklearn.utils.validation import check_is_fitted\n",
    "need_fit = True\n",
    "try:\n",
    "    check_is_fitted(best_pipeline)\n",
    "    need_fit = False\n",
    "except Exception:\n",
    "    need_fit = True\n",
    "\n",
    "if need_fit:\n",
    "    print(\"Fitting selected pipeline on full training data (this may take time)...\")\n",
    "    best_pipeline.fit(X_tr_final, y_tr_final)\n",
    "else:\n",
    "    print(\"Selected pipeline already fitted (skipping fit).\")\n"
   ]
  },
  {
   "cell_type": "code",
   "execution_count": null,
   "id": "2d0a6095-964f-4825-b93f-ee7f07d3cde6",
   "metadata": {},
   "outputs": [],
   "source": [
    "# 6) final MLflow logging (uses your run_and_log_final_model)\n",
    "res = run_and_log_final_model(\n",
    "    best_pipeline,\n",
    "    X_tr_final, y_tr_final, X_te_final, y_te_final,\n",
    "    run_name=f\"final_from_{model_name}_{sampler_name}_sub{sub_idx}\",\n",
    "    artifact_prefix=f\"final_{model_name}_{sampler_name}_sub{sub_idx}\",\n",
    "    register_model_name=None\n",
    ")\n",
    "\n",
    "print(\"Final run result:\", res)"
   ]
  },
  {
   "cell_type": "code",
   "execution_count": null,
   "id": "6f9abc3d-f3cf-4d5c-ac53-73e3dbb09ddd",
   "metadata": {},
   "outputs": [],
   "source": []
  },
  {
   "cell_type": "code",
   "execution_count": null,
   "id": "8dee2de2-94fe-4229-8f1d-81e3821370e8",
   "metadata": {},
   "outputs": [],
   "source": []
  },
  {
   "cell_type": "code",
   "execution_count": null,
   "id": "74676df8-b164-4c99-8f43-b2e851c39713",
   "metadata": {},
   "outputs": [],
   "source": []
  },
  {
   "cell_type": "code",
   "execution_count": null,
   "id": "df09d20a-060d-4c2b-b21d-ae603b795d6b",
   "metadata": {},
   "outputs": [],
   "source": []
  },
  {
   "cell_type": "markdown",
   "id": "7f75be78-f91d-401e-a76e-c63418e48f06",
   "metadata": {},
   "source": []
  },
  {
   "cell_type": "code",
   "execution_count": null,
   "id": "bee52080-5406-4acd-bd94-90e81e7b2a39",
   "metadata": {},
   "outputs": [],
   "source": []
  },
  {
   "cell_type": "markdown",
   "id": "faa11a68-350c-4621-9daa-3864cdae81f4",
   "metadata": {},
   "source": [
    "### Bibliography\r\n",
    "\r\n",
    "* David H., Heikki M., & Padhraic S. (2005). *Eksploracja danych*. Wydawnictwo Naukowo-Techniczne.\r\n",
    "* Poliszczuk, A. (2017). *Modelowanie statystyczne i symulacje Monte Carlo odpowiedzi detektorów promieniowania jonizującego* [PhD thesis, Narodowe Centrum Badań Jądrowych]. Retrieved from https://www.ncbj.gov.pl/sites/default/files/phd_thesis_apoliszczuk_final_pl.pdf\r\n",
    "* Scikit-learn. (n.d.). *sklearn.impute*. Retrieved July 5, 2025, from https://scikit-learn.org/stable/api/sklearn.impute.html\r\n",
    "* Scikit-learn. (n.d.). *Supervised learning*. Retrieved July 5, 2025, from https://scikit-learn.org/stable/supervised_learning.html\r\n",
    "* Stack Overflow. (2017). *Can sklearn.DecisionTreeClassifier truly work with categorical data?*. Retrieved July 5, 2025, from https://stackoverflow.com/questions/47873366/can-sklearn-decisiontreeclassifier-truly-work-with-categorical-data"
   ]
  }
 ],
 "metadata": {
  "kernelspec": {
   "display_name": "Python 3",
   "language": "python",
   "name": "python3"
  },
  "language_info": {
   "codemirror_mode": {
    "name": "ipython",
    "version": 3
   },
   "file_extension": ".py",
   "mimetype": "text/x-python",
   "name": "python",
   "nbconvert_exporter": "python",
   "pygments_lexer": "ipython3",
   "version": "3.11.5"
  }
 },
 "nbformat": 4,
 "nbformat_minor": 5
}
